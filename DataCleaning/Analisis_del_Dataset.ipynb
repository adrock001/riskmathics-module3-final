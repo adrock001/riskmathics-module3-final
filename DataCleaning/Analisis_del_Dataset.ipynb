{
  "cells": [
    {
      "cell_type": "markdown",
      "metadata": {
        "id": "rZGuyBXgGwJa"
      },
      "source": [
        "# Carga del dataset"
      ]
    },
    {
      "cell_type": "markdown",
      "metadata": {
        "id": "nCsTU4ZOG9IM"
      },
      "source": [
        "Coneccion con drive"
      ]
    },
    {
      "cell_type": "code",
      "execution_count": 67,
      "metadata": {
        "colab": {
          "base_uri": "https://localhost:8080/"
        },
        "id": "rsr9FM7iG0h8",
        "outputId": "97335042-220e-4ef3-edda-8d25461d44cd"
      },
      "outputs": [],
      "source": [
        "#from google.colab import drive\n",
        "#drive.mount('/content/drive')"
      ]
    },
    {
      "cell_type": "markdown",
      "metadata": {
        "id": "Z8Z77No6Hdci"
      },
      "source": [
        "Importacion de librerias"
      ]
    },
    {
      "cell_type": "code",
      "execution_count": 68,
      "metadata": {
        "id": "Zfym6hcBHYPQ"
      },
      "outputs": [],
      "source": [
        "import pandas as pd"
      ]
    },
    {
      "cell_type": "markdown",
      "metadata": {
        "id": "ZGkt3KjWHvH4"
      },
      "source": [
        "Cargamos el dataset en un dataframe de pandas"
      ]
    },
    {
      "cell_type": "code",
      "execution_count": 69,
      "metadata": {
        "id": "793DF_O9Hzd8"
      },
      "outputs": [],
      "source": [
        "# df = pd.read_csv(\"/content/drive/MyDrive/Diplomado IA/Modulo 3/Trabajo Final/Datos_proyecto.csv\")\n",
        "df = pd.read_csv(\"DataSet/Datos_proyecto.csv\")"
      ]
    },
    {
      "cell_type": "markdown",
      "metadata": {
        "id": "hvLj0e2KIXHk"
      },
      "source": [
        "# Analisis de los datos"
      ]
    },
    {
      "cell_type": "markdown",
      "metadata": {
        "id": "VPkY-QU7Jg1m"
      },
      "source": [
        "## Composicion y tipos de dato"
      ]
    },
    {
      "cell_type": "code",
      "execution_count": 70,
      "metadata": {
        "colab": {
          "base_uri": "https://localhost:8080/"
        },
        "id": "Bl9RlaKGIi6l",
        "outputId": "56c59274-b7db-432f-cc0b-541c1f70daa4"
      },
      "outputs": [
        {
          "data": {
            "text/plain": [
              "(105, 14)"
            ]
          },
          "execution_count": 70,
          "metadata": {},
          "output_type": "execute_result"
        }
      ],
      "source": [
        "df.shape"
      ]
    },
    {
      "cell_type": "code",
      "execution_count": 71,
      "metadata": {
        "colab": {
          "base_uri": "https://localhost:8080/",
          "height": 435
        },
        "id": "KxYXfJUuJF2N",
        "outputId": "9254f7d6-167c-4e44-bd67-de9f4bf040e2"
      },
      "outputs": [
        {
          "data": {
            "text/html": [
              "<div>\n",
              "<style scoped>\n",
              "    .dataframe tbody tr th:only-of-type {\n",
              "        vertical-align: middle;\n",
              "    }\n",
              "\n",
              "    .dataframe tbody tr th {\n",
              "        vertical-align: top;\n",
              "    }\n",
              "\n",
              "    .dataframe thead th {\n",
              "        text-align: right;\n",
              "    }\n",
              "</style>\n",
              "<table border=\"1\" class=\"dataframe\">\n",
              "  <thead>\n",
              "    <tr style=\"text-align: right;\">\n",
              "      <th></th>\n",
              "      <th>Company_ID</th>\n",
              "      <th>Total_Revenue</th>\n",
              "      <th>Short_Term_Debt</th>\n",
              "      <th>Long_Term_Debt</th>\n",
              "      <th>Current_Assets</th>\n",
              "      <th>Current_Liabilities</th>\n",
              "      <th>Equity</th>\n",
              "      <th>Financial_Expenses</th>\n",
              "      <th>Current_Ratio</th>\n",
              "      <th>Debt_to_Equity_Ratio</th>\n",
              "      <th>Interest_Coverage_Ratio</th>\n",
              "      <th>Industry</th>\n",
              "      <th>Country</th>\n",
              "      <th>Company_Size</th>\n",
              "    </tr>\n",
              "  </thead>\n",
              "  <tbody>\n",
              "    <tr>\n",
              "      <th>0</th>\n",
              "      <td>C0001</td>\n",
              "      <td>3.347816e+10</td>\n",
              "      <td>5.495948e+08</td>\n",
              "      <td>2.278415e+09</td>\n",
              "      <td>6.538713e+09</td>\n",
              "      <td>1.331093e+08</td>\n",
              "      <td>2.293854e+10</td>\n",
              "      <td>3.864617e+08</td>\n",
              "      <td>49.12</td>\n",
              "      <td>0.12</td>\n",
              "      <td>86.63</td>\n",
              "      <td>Tecnología</td>\n",
              "      <td>Alemania</td>\n",
              "      <td>Mediana</td>\n",
              "    </tr>\n",
              "    <tr>\n",
              "      <th>1</th>\n",
              "      <td>C0002</td>\n",
              "      <td>2.477267e+10</td>\n",
              "      <td>1.320539e+09</td>\n",
              "      <td>1.651796e+09</td>\n",
              "      <td>1.939125e+10</td>\n",
              "      <td>8.864651e+08</td>\n",
              "      <td>2.949615e+10</td>\n",
              "      <td>1.652171e+08</td>\n",
              "      <td>21.87</td>\n",
              "      <td>0.10</td>\n",
              "      <td>149.94</td>\n",
              "      <td>Tecnología</td>\n",
              "      <td>México</td>\n",
              "      <td>Mediana</td>\n",
              "    </tr>\n",
              "    <tr>\n",
              "      <th>2</th>\n",
              "      <td>C0003</td>\n",
              "      <td>2.281084e+10</td>\n",
              "      <td>7.473215e+08</td>\n",
              "      <td>8.511983e+09</td>\n",
              "      <td>7.443570e+09</td>\n",
              "      <td>1.982664e+09</td>\n",
              "      <td>2.571465e+10</td>\n",
              "      <td>5.197711e+07</td>\n",
              "      <td>3.75</td>\n",
              "      <td>0.36</td>\n",
              "      <td>438.86</td>\n",
              "      <td>Retail</td>\n",
              "      <td>Alemania</td>\n",
              "      <td>Mediana</td>\n",
              "    </tr>\n",
              "    <tr>\n",
              "      <th>3</th>\n",
              "      <td>C0004</td>\n",
              "      <td>8.187718e+09</td>\n",
              "      <td>4.930008e+08</td>\n",
              "      <td>8.082415e+09</td>\n",
              "      <td>1.860758e+10</td>\n",
              "      <td>1.959019e+09</td>\n",
              "      <td>2.170094e+10</td>\n",
              "      <td>4.335059e+08</td>\n",
              "      <td>9.50</td>\n",
              "      <td>1271.00</td>\n",
              "      <td>18.89</td>\n",
              "      <td>Tecnología</td>\n",
              "      <td>Estados Unidos</td>\n",
              "      <td>Grande</td>\n",
              "    </tr>\n",
              "    <tr>\n",
              "      <th>4</th>\n",
              "      <td>C0005</td>\n",
              "      <td>1.484683e+10</td>\n",
              "      <td>1.943282e+09</td>\n",
              "      <td>2.758103e+09</td>\n",
              "      <td>4.151931e+09</td>\n",
              "      <td>1.651759e+09</td>\n",
              "      <td>8.839496e+09</td>\n",
              "      <td>1.665935e+07</td>\n",
              "      <td>2.51</td>\n",
              "      <td>0.53</td>\n",
              "      <td>891.20</td>\n",
              "      <td>Salud</td>\n",
              "      <td>Alemania</td>\n",
              "      <td>Mediana</td>\n",
              "    </tr>\n",
              "    <tr>\n",
              "      <th>5</th>\n",
              "      <td>C0006</td>\n",
              "      <td>1.099748e+10</td>\n",
              "      <td>6.621239e+08</td>\n",
              "      <td>2.764835e+09</td>\n",
              "      <td>9.869102e+09</td>\n",
              "      <td>8.481944e+08</td>\n",
              "      <td>3.731250e+09</td>\n",
              "      <td>2.802825e+08</td>\n",
              "      <td>11.64</td>\n",
              "      <td>0.92</td>\n",
              "      <td>39.24</td>\n",
              "      <td>Salud</td>\n",
              "      <td>México</td>\n",
              "      <td>Mediana</td>\n",
              "    </tr>\n",
              "    <tr>\n",
              "      <th>6</th>\n",
              "      <td>C0007</td>\n",
              "      <td>3.320348e+10</td>\n",
              "      <td>1.711320e+08</td>\n",
              "      <td>4.680667e+09</td>\n",
              "      <td>1.615755e+10</td>\n",
              "      <td>1.338509e+09</td>\n",
              "      <td>2.286229e+10</td>\n",
              "      <td>3.570077e+08</td>\n",
              "      <td>12.07</td>\n",
              "      <td>1271.00</td>\n",
              "      <td>93.00</td>\n",
              "      <td>Manufactura</td>\n",
              "      <td>Estados Unidos</td>\n",
              "      <td>Grande</td>\n",
              "    </tr>\n",
              "    <tr>\n",
              "      <th>7</th>\n",
              "      <td>C0008</td>\n",
              "      <td>3.575152e+10</td>\n",
              "      <td>8.353767e+08</td>\n",
              "      <td>8.056748e+07</td>\n",
              "      <td>1.645370e+10</td>\n",
              "      <td>1.314809e+09</td>\n",
              "      <td>6.804570e+09</td>\n",
              "      <td>1.923786e+07</td>\n",
              "      <td>12.51</td>\n",
              "      <td>0.13</td>\n",
              "      <td>1858.39</td>\n",
              "      <td>Manufactura</td>\n",
              "      <td>Estados Unidos</td>\n",
              "      <td>Grande</td>\n",
              "    </tr>\n",
              "    <tr>\n",
              "      <th>8</th>\n",
              "      <td>C0009</td>\n",
              "      <td>9.153223e+09</td>\n",
              "      <td>5.783346e+07</td>\n",
              "      <td>6.335196e+09</td>\n",
              "      <td>7.953471e+09</td>\n",
              "      <td>1.753550e+09</td>\n",
              "      <td>1.077667e+10</td>\n",
              "      <td>6.505931e+07</td>\n",
              "      <td>4.54</td>\n",
              "      <td>0.59</td>\n",
              "      <td>140.69</td>\n",
              "      <td>Finanzas</td>\n",
              "      <td>China</td>\n",
              "      <td>Grande</td>\n",
              "    </tr>\n",
              "    <tr>\n",
              "      <th>9</th>\n",
              "      <td>C0010</td>\n",
              "      <td>3.565230e+09</td>\n",
              "      <td>1.931868e+09</td>\n",
              "      <td>1.235623e+09</td>\n",
              "      <td>9.811878e+09</td>\n",
              "      <td>4.330429e+08</td>\n",
              "      <td>2.030916e+10</td>\n",
              "      <td>1.436897e+08</td>\n",
              "      <td>22.66</td>\n",
              "      <td>0.16</td>\n",
              "      <td>24.81</td>\n",
              "      <td>Retail</td>\n",
              "      <td>Alemania</td>\n",
              "      <td>Pequeña</td>\n",
              "    </tr>\n",
              "  </tbody>\n",
              "</table>\n",
              "</div>"
            ],
            "text/plain": [
              "  Company_ID  Total_Revenue  Short_Term_Debt  Long_Term_Debt  Current_Assets  \\\n",
              "0      C0001   3.347816e+10     5.495948e+08    2.278415e+09    6.538713e+09   \n",
              "1      C0002   2.477267e+10     1.320539e+09    1.651796e+09    1.939125e+10   \n",
              "2      C0003   2.281084e+10     7.473215e+08    8.511983e+09    7.443570e+09   \n",
              "3      C0004   8.187718e+09     4.930008e+08    8.082415e+09    1.860758e+10   \n",
              "4      C0005   1.484683e+10     1.943282e+09    2.758103e+09    4.151931e+09   \n",
              "5      C0006   1.099748e+10     6.621239e+08    2.764835e+09    9.869102e+09   \n",
              "6      C0007   3.320348e+10     1.711320e+08    4.680667e+09    1.615755e+10   \n",
              "7      C0008   3.575152e+10     8.353767e+08    8.056748e+07    1.645370e+10   \n",
              "8      C0009   9.153223e+09     5.783346e+07    6.335196e+09    7.953471e+09   \n",
              "9      C0010   3.565230e+09     1.931868e+09    1.235623e+09    9.811878e+09   \n",
              "\n",
              "   Current_Liabilities        Equity  Financial_Expenses  Current_Ratio  \\\n",
              "0         1.331093e+08  2.293854e+10        3.864617e+08          49.12   \n",
              "1         8.864651e+08  2.949615e+10        1.652171e+08          21.87   \n",
              "2         1.982664e+09  2.571465e+10        5.197711e+07           3.75   \n",
              "3         1.959019e+09  2.170094e+10        4.335059e+08           9.50   \n",
              "4         1.651759e+09  8.839496e+09        1.665935e+07           2.51   \n",
              "5         8.481944e+08  3.731250e+09        2.802825e+08          11.64   \n",
              "6         1.338509e+09  2.286229e+10        3.570077e+08          12.07   \n",
              "7         1.314809e+09  6.804570e+09        1.923786e+07          12.51   \n",
              "8         1.753550e+09  1.077667e+10        6.505931e+07           4.54   \n",
              "9         4.330429e+08  2.030916e+10        1.436897e+08          22.66   \n",
              "\n",
              "   Debt_to_Equity_Ratio  Interest_Coverage_Ratio     Industry         Country  \\\n",
              "0                  0.12                    86.63   Tecnología        Alemania   \n",
              "1                  0.10                   149.94   Tecnología          México   \n",
              "2                  0.36                   438.86       Retail        Alemania   \n",
              "3               1271.00                    18.89   Tecnología  Estados Unidos   \n",
              "4                  0.53                   891.20        Salud        Alemania   \n",
              "5                  0.92                    39.24        Salud          México   \n",
              "6               1271.00                    93.00  Manufactura  Estados Unidos   \n",
              "7                  0.13                  1858.39  Manufactura  Estados Unidos   \n",
              "8                  0.59                   140.69     Finanzas           China   \n",
              "9                  0.16                    24.81       Retail        Alemania   \n",
              "\n",
              "  Company_Size  \n",
              "0      Mediana  \n",
              "1      Mediana  \n",
              "2      Mediana  \n",
              "3       Grande  \n",
              "4      Mediana  \n",
              "5      Mediana  \n",
              "6       Grande  \n",
              "7       Grande  \n",
              "8       Grande  \n",
              "9      Pequeña  "
            ]
          },
          "execution_count": 71,
          "metadata": {},
          "output_type": "execute_result"
        }
      ],
      "source": [
        "df.head(10)"
      ]
    },
    {
      "cell_type": "code",
      "execution_count": 72,
      "metadata": {
        "colab": {
          "base_uri": "https://localhost:8080/",
          "height": 523
        },
        "id": "FD5uYEhGJRZD",
        "outputId": "9f0f69e4-faa4-4d13-fa28-af9540ea2f2b"
      },
      "outputs": [
        {
          "data": {
            "text/plain": [
              "Company_ID                  object\n",
              "Total_Revenue              float64\n",
              "Short_Term_Debt            float64\n",
              "Long_Term_Debt             float64\n",
              "Current_Assets             float64\n",
              "Current_Liabilities        float64\n",
              "Equity                     float64\n",
              "Financial_Expenses         float64\n",
              "Current_Ratio              float64\n",
              "Debt_to_Equity_Ratio       float64\n",
              "Interest_Coverage_Ratio    float64\n",
              "Industry                    object\n",
              "Country                     object\n",
              "Company_Size                object\n",
              "dtype: object"
            ]
          },
          "execution_count": 72,
          "metadata": {},
          "output_type": "execute_result"
        }
      ],
      "source": [
        "df.dtypes"
      ]
    },
    {
      "cell_type": "markdown",
      "metadata": {
        "id": "LWqlQ29EKAzp"
      },
      "source": [
        "## Datos nulos y valores unicos"
      ]
    },
    {
      "cell_type": "code",
      "execution_count": 73,
      "metadata": {
        "colab": {
          "base_uri": "https://localhost:8080/",
          "height": 523
        },
        "id": "J5CSAF4SKNnY",
        "outputId": "22bacf44-3e2b-4e73-a3d1-7b230afc4c93"
      },
      "outputs": [
        {
          "data": {
            "text/plain": [
              "Company_ID                 105\n",
              "Total_Revenue              102\n",
              "Short_Term_Debt            102\n",
              "Long_Term_Debt             105\n",
              "Current_Assets             105\n",
              "Current_Liabilities        105\n",
              "Equity                     105\n",
              "Financial_Expenses         101\n",
              "Current_Ratio              105\n",
              "Debt_to_Equity_Ratio       105\n",
              "Interest_Coverage_Ratio    105\n",
              "Industry                   105\n",
              "Country                    105\n",
              "Company_Size               105\n",
              "dtype: int64"
            ]
          },
          "execution_count": 73,
          "metadata": {},
          "output_type": "execute_result"
        }
      ],
      "source": [
        "df.count()"
      ]
    },
    {
      "cell_type": "code",
      "execution_count": 74,
      "metadata": {
        "colab": {
          "base_uri": "https://localhost:8080/",
          "height": 523
        },
        "id": "js3am_78LJso",
        "outputId": "6d0bcbca-ddbd-47a4-c300-cde4805ab6ee"
      },
      "outputs": [
        {
          "data": {
            "text/plain": [
              "Company_ID                 0\n",
              "Total_Revenue              3\n",
              "Short_Term_Debt            3\n",
              "Long_Term_Debt             0\n",
              "Current_Assets             0\n",
              "Current_Liabilities        0\n",
              "Equity                     0\n",
              "Financial_Expenses         4\n",
              "Current_Ratio              0\n",
              "Debt_to_Equity_Ratio       0\n",
              "Interest_Coverage_Ratio    0\n",
              "Industry                   0\n",
              "Country                    0\n",
              "Company_Size               0\n",
              "dtype: int64"
            ]
          },
          "execution_count": 74,
          "metadata": {},
          "output_type": "execute_result"
        }
      ],
      "source": [
        "df.isnull().sum()"
      ]
    },
    {
      "cell_type": "markdown",
      "metadata": {},
      "source": [
        "Elimino las empresas de las que no tienen Total_Revenue ya que es un dato fundamental y que no se puede inferir facilmente con el resto de la muestra"
      ]
    },
    {
      "cell_type": "code",
      "execution_count": 75,
      "metadata": {},
      "outputs": [],
      "source": [
        "df.dropna(subset=[\"Total_Revenue\"], inplace=True)"
      ]
    },
    {
      "cell_type": "markdown",
      "metadata": {},
      "source": [
        "Reviso los datos puntuales faltantes de Short_Term_Debt"
      ]
    },
    {
      "cell_type": "code",
      "execution_count": 76,
      "metadata": {},
      "outputs": [
        {
          "data": {
            "text/html": [
              "<div>\n",
              "<style scoped>\n",
              "    .dataframe tbody tr th:only-of-type {\n",
              "        vertical-align: middle;\n",
              "    }\n",
              "\n",
              "    .dataframe tbody tr th {\n",
              "        vertical-align: top;\n",
              "    }\n",
              "\n",
              "    .dataframe thead th {\n",
              "        text-align: right;\n",
              "    }\n",
              "</style>\n",
              "<table border=\"1\" class=\"dataframe\">\n",
              "  <thead>\n",
              "    <tr style=\"text-align: right;\">\n",
              "      <th></th>\n",
              "      <th>Company_ID</th>\n",
              "      <th>Total_Revenue</th>\n",
              "      <th>Short_Term_Debt</th>\n",
              "      <th>Long_Term_Debt</th>\n",
              "      <th>Current_Assets</th>\n",
              "      <th>Current_Liabilities</th>\n",
              "      <th>Equity</th>\n",
              "      <th>Financial_Expenses</th>\n",
              "      <th>Current_Ratio</th>\n",
              "      <th>Debt_to_Equity_Ratio</th>\n",
              "      <th>Interest_Coverage_Ratio</th>\n",
              "      <th>Industry</th>\n",
              "      <th>Country</th>\n",
              "      <th>Company_Size</th>\n",
              "    </tr>\n",
              "  </thead>\n",
              "  <tbody>\n",
              "    <tr>\n",
              "      <th>14</th>\n",
              "      <td>C0015</td>\n",
              "      <td>2.097710e+10</td>\n",
              "      <td>NaN</td>\n",
              "      <td>5.268650e+09</td>\n",
              "      <td>1.863470e+10</td>\n",
              "      <td>1.258057e+09</td>\n",
              "      <td>2.882105e+10</td>\n",
              "      <td>2.283849e+08</td>\n",
              "      <td>14.81</td>\n",
              "      <td>0.21</td>\n",
              "      <td>91.85</td>\n",
              "      <td>Finanzas</td>\n",
              "      <td>México</td>\n",
              "      <td>Grande</td>\n",
              "    </tr>\n",
              "    <tr>\n",
              "      <th>47</th>\n",
              "      <td>C0048</td>\n",
              "      <td>8.014716e+09</td>\n",
              "      <td>NaN</td>\n",
              "      <td>1.619414e+09</td>\n",
              "      <td>1.323820e+10</td>\n",
              "      <td>1.140972e+09</td>\n",
              "      <td>1.554729e+10</td>\n",
              "      <td>6.344066e+07</td>\n",
              "      <td>11.60</td>\n",
              "      <td>0.11</td>\n",
              "      <td>126.33</td>\n",
              "      <td>Salud</td>\n",
              "      <td>México</td>\n",
              "      <td>Mediana</td>\n",
              "    </tr>\n",
              "    <tr>\n",
              "      <th>70</th>\n",
              "      <td>C0071</td>\n",
              "      <td>4.879140e+10</td>\n",
              "      <td>NaN</td>\n",
              "      <td>6.010033e+09</td>\n",
              "      <td>8.443444e+09</td>\n",
              "      <td>1.905456e+09</td>\n",
              "      <td>2.073704e+09</td>\n",
              "      <td>6.545963e+07</td>\n",
              "      <td>4.43</td>\n",
              "      <td>3.59</td>\n",
              "      <td>745.37</td>\n",
              "      <td>Manufactura</td>\n",
              "      <td>China</td>\n",
              "      <td>Pequeña</td>\n",
              "    </tr>\n",
              "  </tbody>\n",
              "</table>\n",
              "</div>"
            ],
            "text/plain": [
              "   Company_ID  Total_Revenue  Short_Term_Debt  Long_Term_Debt  Current_Assets  \\\n",
              "14      C0015   2.097710e+10              NaN    5.268650e+09    1.863470e+10   \n",
              "47      C0048   8.014716e+09              NaN    1.619414e+09    1.323820e+10   \n",
              "70      C0071   4.879140e+10              NaN    6.010033e+09    8.443444e+09   \n",
              "\n",
              "    Current_Liabilities        Equity  Financial_Expenses  Current_Ratio  \\\n",
              "14         1.258057e+09  2.882105e+10        2.283849e+08          14.81   \n",
              "47         1.140972e+09  1.554729e+10        6.344066e+07          11.60   \n",
              "70         1.905456e+09  2.073704e+09        6.545963e+07           4.43   \n",
              "\n",
              "    Debt_to_Equity_Ratio  Interest_Coverage_Ratio     Industry Country  \\\n",
              "14                  0.21                    91.85     Finanzas  México   \n",
              "47                  0.11                   126.33        Salud  México   \n",
              "70                  3.59                   745.37  Manufactura   China   \n",
              "\n",
              "   Company_Size  \n",
              "14       Grande  \n",
              "47      Mediana  \n",
              "70      Pequeña  "
            ]
          },
          "execution_count": 76,
          "metadata": {},
          "output_type": "execute_result"
        }
      ],
      "source": [
        "df[df[\"Short_Term_Debt\"].isnull()]"
      ]
    },
    {
      "cell_type": "markdown",
      "metadata": {},
      "source": [
        "Reviso los datos puntuales faltantes de Financial_Expenses"
      ]
    },
    {
      "cell_type": "code",
      "execution_count": 77,
      "metadata": {},
      "outputs": [
        {
          "data": {
            "text/html": [
              "<div>\n",
              "<style scoped>\n",
              "    .dataframe tbody tr th:only-of-type {\n",
              "        vertical-align: middle;\n",
              "    }\n",
              "\n",
              "    .dataframe tbody tr th {\n",
              "        vertical-align: top;\n",
              "    }\n",
              "\n",
              "    .dataframe thead th {\n",
              "        text-align: right;\n",
              "    }\n",
              "</style>\n",
              "<table border=\"1\" class=\"dataframe\">\n",
              "  <thead>\n",
              "    <tr style=\"text-align: right;\">\n",
              "      <th></th>\n",
              "      <th>Company_ID</th>\n",
              "      <th>Total_Revenue</th>\n",
              "      <th>Short_Term_Debt</th>\n",
              "      <th>Long_Term_Debt</th>\n",
              "      <th>Current_Assets</th>\n",
              "      <th>Current_Liabilities</th>\n",
              "      <th>Equity</th>\n",
              "      <th>Financial_Expenses</th>\n",
              "      <th>Current_Ratio</th>\n",
              "      <th>Debt_to_Equity_Ratio</th>\n",
              "      <th>Interest_Coverage_Ratio</th>\n",
              "      <th>Industry</th>\n",
              "      <th>Country</th>\n",
              "      <th>Company_Size</th>\n",
              "    </tr>\n",
              "  </thead>\n",
              "  <tbody>\n",
              "    <tr>\n",
              "      <th>27</th>\n",
              "      <td>C0028</td>\n",
              "      <td>1.585813e+10</td>\n",
              "      <td>1.272831e+09</td>\n",
              "      <td>7.443309e+08</td>\n",
              "      <td>6.963779e+09</td>\n",
              "      <td>1.672859e+09</td>\n",
              "      <td>8.543938e+09</td>\n",
              "      <td>NaN</td>\n",
              "      <td>4.16</td>\n",
              "      <td>0.24</td>\n",
              "      <td>43.92</td>\n",
              "      <td>Manufactura</td>\n",
              "      <td>Estados Unidos</td>\n",
              "      <td>Mediana</td>\n",
              "    </tr>\n",
              "    <tr>\n",
              "      <th>43</th>\n",
              "      <td>C0044</td>\n",
              "      <td>2.520887e+10</td>\n",
              "      <td>8.916349e+08</td>\n",
              "      <td>7.795491e+09</td>\n",
              "      <td>8.944172e+08</td>\n",
              "      <td>1.009443e+09</td>\n",
              "      <td>1.845747e+10</td>\n",
              "      <td>NaN</td>\n",
              "      <td>0.89</td>\n",
              "      <td>0.47</td>\n",
              "      <td>68.62</td>\n",
              "      <td>Manufactura</td>\n",
              "      <td>China</td>\n",
              "      <td>Grande</td>\n",
              "    </tr>\n",
              "    <tr>\n",
              "      <th>49</th>\n",
              "      <td>C0050</td>\n",
              "      <td>1.899804e+10</td>\n",
              "      <td>1.349049e+08</td>\n",
              "      <td>2.231417e+09</td>\n",
              "      <td>1.655181e+10</td>\n",
              "      <td>9.822027e+08</td>\n",
              "      <td>2.163346e+10</td>\n",
              "      <td>NaN</td>\n",
              "      <td>16.85</td>\n",
              "      <td>0.11</td>\n",
              "      <td>45.84</td>\n",
              "      <td>Finanzas</td>\n",
              "      <td>Alemania</td>\n",
              "      <td>Pequeña</td>\n",
              "    </tr>\n",
              "    <tr>\n",
              "      <th>96</th>\n",
              "      <td>C0097</td>\n",
              "      <td>5.063227e+09</td>\n",
              "      <td>8.778292e+08</td>\n",
              "      <td>7.686434e+09</td>\n",
              "      <td>7.755746e+07</td>\n",
              "      <td>1.930525e+09</td>\n",
              "      <td>9.846594e+09</td>\n",
              "      <td>NaN</td>\n",
              "      <td>0.04</td>\n",
              "      <td>0.87</td>\n",
              "      <td>17.03</td>\n",
              "      <td>Manufactura</td>\n",
              "      <td>Estados Unidos</td>\n",
              "      <td>Grande</td>\n",
              "    </tr>\n",
              "  </tbody>\n",
              "</table>\n",
              "</div>"
            ],
            "text/plain": [
              "   Company_ID  Total_Revenue  Short_Term_Debt  Long_Term_Debt  Current_Assets  \\\n",
              "27      C0028   1.585813e+10     1.272831e+09    7.443309e+08    6.963779e+09   \n",
              "43      C0044   2.520887e+10     8.916349e+08    7.795491e+09    8.944172e+08   \n",
              "49      C0050   1.899804e+10     1.349049e+08    2.231417e+09    1.655181e+10   \n",
              "96      C0097   5.063227e+09     8.778292e+08    7.686434e+09    7.755746e+07   \n",
              "\n",
              "    Current_Liabilities        Equity  Financial_Expenses  Current_Ratio  \\\n",
              "27         1.672859e+09  8.543938e+09                 NaN           4.16   \n",
              "43         1.009443e+09  1.845747e+10                 NaN           0.89   \n",
              "49         9.822027e+08  2.163346e+10                 NaN          16.85   \n",
              "96         1.930525e+09  9.846594e+09                 NaN           0.04   \n",
              "\n",
              "    Debt_to_Equity_Ratio  Interest_Coverage_Ratio     Industry  \\\n",
              "27                  0.24                    43.92  Manufactura   \n",
              "43                  0.47                    68.62  Manufactura   \n",
              "49                  0.11                    45.84     Finanzas   \n",
              "96                  0.87                    17.03  Manufactura   \n",
              "\n",
              "           Country Company_Size  \n",
              "27  Estados Unidos      Mediana  \n",
              "43           China       Grande  \n",
              "49        Alemania      Pequeña  \n",
              "96  Estados Unidos       Grande  "
            ]
          },
          "execution_count": 77,
          "metadata": {},
          "output_type": "execute_result"
        }
      ],
      "source": [
        "df[df[\"Financial_Expenses\"].isnull()]"
      ]
    },
    {
      "cell_type": "markdown",
      "metadata": {},
      "source": [
        "Las muestras son pequeñas calcularemos medias por Industry y Pais"
      ]
    },
    {
      "cell_type": "markdown",
      "metadata": {},
      "source": [
        "Relleno los huecos en Short_Term_Debt en base a Debt_to_Equity_Ratio"
      ]
    },
    {
      "cell_type": "code",
      "execution_count": 78,
      "metadata": {},
      "outputs": [],
      "source": [
        "df[\"Short_Term_Debt\"] = df[\"Short_Term_Debt\"].fillna((df[\"Debt_to_Equity_Ratio\"]*df[\"Equity\"])-df[\"Long_Term_Debt\"])"
      ]
    },
    {
      "cell_type": "markdown",
      "metadata": {},
      "source": [
        "Calculo Financial_Expenses en base a Interest_Coverage_Ratio"
      ]
    },
    {
      "cell_type": "code",
      "execution_count": 79,
      "metadata": {},
      "outputs": [],
      "source": [
        "df[\"Financial_Expenses\"] = df[\"Financial_Expenses\"].fillna(df[\"Total_Revenue\"]/df[\"Interest_Coverage_Ratio\"])\n"
      ]
    },
    {
      "cell_type": "markdown",
      "metadata": {},
      "source": [
        "Valido"
      ]
    },
    {
      "cell_type": "code",
      "execution_count": 80,
      "metadata": {},
      "outputs": [
        {
          "data": {
            "text/plain": [
              "Company_ID                 0\n",
              "Total_Revenue              0\n",
              "Short_Term_Debt            0\n",
              "Long_Term_Debt             0\n",
              "Current_Assets             0\n",
              "Current_Liabilities        0\n",
              "Equity                     0\n",
              "Financial_Expenses         0\n",
              "Current_Ratio              0\n",
              "Debt_to_Equity_Ratio       0\n",
              "Interest_Coverage_Ratio    0\n",
              "Industry                   0\n",
              "Country                    0\n",
              "Company_Size               0\n",
              "dtype: int64"
            ]
          },
          "execution_count": 80,
          "metadata": {},
          "output_type": "execute_result"
        }
      ],
      "source": [
        "df.isnull().sum()"
      ]
    },
    {
      "cell_type": "markdown",
      "metadata": {},
      "source": [
        "Reviso los valores de los campos tipo objeto"
      ]
    },
    {
      "cell_type": "code",
      "execution_count": 81,
      "metadata": {
        "colab": {
          "base_uri": "https://localhost:8080/"
        },
        "id": "WfamV1K2NzFt",
        "outputId": "fe07a927-b296-4686-a7d2-cb50dc294792"
      },
      "outputs": [
        {
          "data": {
            "text/plain": [
              "array(['C0001', 'C0002', 'C0003', 'C0004', 'C0005', 'C0006', 'C0007',\n",
              "       'C0008', 'C0009', 'C0010', 'C0011', 'C0012', 'C0013', 'C0014',\n",
              "       'C0015', 'C0016', 'C0017', 'C0018', 'C0019', 'C0021', 'C0022',\n",
              "       'C0023', 'C0024', 'C0025', 'C0026', 'C0027', 'C0028', 'C0029',\n",
              "       'C0030', 'C0031', 'C0032', 'C0033', 'C0034', 'C0035', 'C0036',\n",
              "       'C0037', 'C0038', 'C0039', 'C0040', 'C0041', 'C0042', 'C0043',\n",
              "       'C0044', 'C0045', 'C0046', 'C0047', 'C0048', 'C0049', 'C0050',\n",
              "       'C0051', 'C0052', 'C0053', 'C0054', 'C0055', 'C0056', 'C0057',\n",
              "       'C0058', 'C0059', 'C0060', 'C0061', 'C0062', 'C0064', 'C0065',\n",
              "       'C0066', 'C0067', 'C0068', 'C0069', 'C0070', 'C0071', 'C0072',\n",
              "       'C0073', 'C0074', 'C0075', 'C0076', 'C0077', 'C0078', 'C0079',\n",
              "       'C0080', 'C0081', 'C0082', 'C0083', 'C0084', 'C0085', 'C0086',\n",
              "       'C0087', 'C0088', 'C0089', 'C0090', 'C0091', 'C0092', 'C0093',\n",
              "       'C0094', 'C0095', 'C0096', 'C0097', 'C0098', 'C0100'], dtype=object)"
            ]
          },
          "execution_count": 81,
          "metadata": {},
          "output_type": "execute_result"
        }
      ],
      "source": [
        "df[\"Company_ID\"].unique()"
      ]
    },
    {
      "cell_type": "code",
      "execution_count": 82,
      "metadata": {
        "colab": {
          "base_uri": "https://localhost:8080/"
        },
        "id": "d2qbk-HZN6aF",
        "outputId": "5c870346-c750-46de-9184-a15ef974789b"
      },
      "outputs": [
        {
          "data": {
            "text/plain": [
              "array(['Mediana', 'Grande', 'Pequeña'], dtype=object)"
            ]
          },
          "execution_count": 82,
          "metadata": {},
          "output_type": "execute_result"
        }
      ],
      "source": [
        "df[\"Company_Size\"].unique()"
      ]
    },
    {
      "cell_type": "code",
      "execution_count": 83,
      "metadata": {
        "colab": {
          "base_uri": "https://localhost:8080/"
        },
        "id": "LRzmmMv89GLJ",
        "outputId": "34639bca-e11a-45b7-cfe1-29ce5801aa63"
      },
      "outputs": [
        {
          "data": {
            "text/plain": [
              "array(['Alemania', 'México', 'Estados Unidos', 'China', 'India'],\n",
              "      dtype=object)"
            ]
          },
          "execution_count": 83,
          "metadata": {},
          "output_type": "execute_result"
        }
      ],
      "source": [
        "df[\"Country\"].unique()"
      ]
    },
    {
      "cell_type": "code",
      "execution_count": 84,
      "metadata": {
        "colab": {
          "base_uri": "https://localhost:8080/"
        },
        "id": "uYbrWO9F9Td2",
        "outputId": "bff08ce1-9504-471a-cf83-4de684416103"
      },
      "outputs": [
        {
          "data": {
            "text/plain": [
              "array(['Tecnología', 'Retail', 'Salud', 'Manufactura', 'Finanzas'],\n",
              "      dtype=object)"
            ]
          },
          "execution_count": 84,
          "metadata": {},
          "output_type": "execute_result"
        }
      ],
      "source": [
        "df[\"Industry\"].unique()"
      ]
    },
    {
      "cell_type": "markdown",
      "metadata": {},
      "source": [
        "Identifico valores duplicados"
      ]
    },
    {
      "cell_type": "code",
      "execution_count": 85,
      "metadata": {},
      "outputs": [
        {
          "data": {
            "text/html": [
              "<div>\n",
              "<style scoped>\n",
              "    .dataframe tbody tr th:only-of-type {\n",
              "        vertical-align: middle;\n",
              "    }\n",
              "\n",
              "    .dataframe tbody tr th {\n",
              "        vertical-align: top;\n",
              "    }\n",
              "\n",
              "    .dataframe thead th {\n",
              "        text-align: right;\n",
              "    }\n",
              "</style>\n",
              "<table border=\"1\" class=\"dataframe\">\n",
              "  <thead>\n",
              "    <tr style=\"text-align: right;\">\n",
              "      <th></th>\n",
              "      <th>Company_ID</th>\n",
              "      <th>Total_Revenue</th>\n",
              "      <th>Short_Term_Debt</th>\n",
              "      <th>Long_Term_Debt</th>\n",
              "      <th>Current_Assets</th>\n",
              "      <th>Current_Liabilities</th>\n",
              "      <th>Equity</th>\n",
              "      <th>Financial_Expenses</th>\n",
              "      <th>Current_Ratio</th>\n",
              "      <th>Debt_to_Equity_Ratio</th>\n",
              "      <th>Interest_Coverage_Ratio</th>\n",
              "      <th>Industry</th>\n",
              "      <th>Country</th>\n",
              "      <th>Company_Size</th>\n",
              "    </tr>\n",
              "  </thead>\n",
              "  <tbody>\n",
              "    <tr>\n",
              "      <th>101</th>\n",
              "      <td>C0036</td>\n",
              "      <td>1.923468e+10</td>\n",
              "      <td>1.830762e+09</td>\n",
              "      <td>9.901867e+09</td>\n",
              "      <td>1.282829e+10</td>\n",
              "      <td>1.837340e+09</td>\n",
              "      <td>3.841258e+09</td>\n",
              "      <td>7.582360e+07</td>\n",
              "      <td>6.98</td>\n",
              "      <td>3.05</td>\n",
              "      <td>253.68</td>\n",
              "      <td>Manufactura</td>\n",
              "      <td>China</td>\n",
              "      <td>Grande</td>\n",
              "    </tr>\n",
              "    <tr>\n",
              "      <th>102</th>\n",
              "      <td>C0006</td>\n",
              "      <td>1.099748e+10</td>\n",
              "      <td>6.621239e+08</td>\n",
              "      <td>2.764835e+09</td>\n",
              "      <td>9.869102e+09</td>\n",
              "      <td>8.481944e+08</td>\n",
              "      <td>3.731250e+09</td>\n",
              "      <td>2.802825e+08</td>\n",
              "      <td>11.64</td>\n",
              "      <td>0.92</td>\n",
              "      <td>39.24</td>\n",
              "      <td>Salud</td>\n",
              "      <td>México</td>\n",
              "      <td>Mediana</td>\n",
              "    </tr>\n",
              "    <tr>\n",
              "      <th>103</th>\n",
              "      <td>C0022</td>\n",
              "      <td>6.793892e+09</td>\n",
              "      <td>8.491369e+08</td>\n",
              "      <td>7.138475e+09</td>\n",
              "      <td>1.164564e+09</td>\n",
              "      <td>7.802656e+08</td>\n",
              "      <td>1.634661e+10</td>\n",
              "      <td>1.436530e+08</td>\n",
              "      <td>1.49</td>\n",
              "      <td>0.49</td>\n",
              "      <td>47.29</td>\n",
              "      <td>Finanzas</td>\n",
              "      <td>Alemania</td>\n",
              "      <td>Pequeña</td>\n",
              "    </tr>\n",
              "    <tr>\n",
              "      <th>104</th>\n",
              "      <td>C0024</td>\n",
              "      <td>3.360170e+10</td>\n",
              "      <td>2.483761e+08</td>\n",
              "      <td>6.171294e+09</td>\n",
              "      <td>1.961213e+10</td>\n",
              "      <td>1.088339e+09</td>\n",
              "      <td>1.185662e+10</td>\n",
              "      <td>3.580051e+08</td>\n",
              "      <td>18.02</td>\n",
              "      <td>0.54</td>\n",
              "      <td>93.86</td>\n",
              "      <td>Manufactura</td>\n",
              "      <td>China</td>\n",
              "      <td>Pequeña</td>\n",
              "    </tr>\n",
              "  </tbody>\n",
              "</table>\n",
              "</div>"
            ],
            "text/plain": [
              "    Company_ID  Total_Revenue  Short_Term_Debt  Long_Term_Debt  \\\n",
              "101      C0036   1.923468e+10     1.830762e+09    9.901867e+09   \n",
              "102      C0006   1.099748e+10     6.621239e+08    2.764835e+09   \n",
              "103      C0022   6.793892e+09     8.491369e+08    7.138475e+09   \n",
              "104      C0024   3.360170e+10     2.483761e+08    6.171294e+09   \n",
              "\n",
              "     Current_Assets  Current_Liabilities        Equity  Financial_Expenses  \\\n",
              "101    1.282829e+10         1.837340e+09  3.841258e+09        7.582360e+07   \n",
              "102    9.869102e+09         8.481944e+08  3.731250e+09        2.802825e+08   \n",
              "103    1.164564e+09         7.802656e+08  1.634661e+10        1.436530e+08   \n",
              "104    1.961213e+10         1.088339e+09  1.185662e+10        3.580051e+08   \n",
              "\n",
              "     Current_Ratio  Debt_to_Equity_Ratio  Interest_Coverage_Ratio  \\\n",
              "101           6.98                  3.05                   253.68   \n",
              "102          11.64                  0.92                    39.24   \n",
              "103           1.49                  0.49                    47.29   \n",
              "104          18.02                  0.54                    93.86   \n",
              "\n",
              "        Industry   Country Company_Size  \n",
              "101  Manufactura     China       Grande  \n",
              "102        Salud    México      Mediana  \n",
              "103     Finanzas  Alemania      Pequeña  \n",
              "104  Manufactura     China      Pequeña  "
            ]
          },
          "execution_count": 85,
          "metadata": {},
          "output_type": "execute_result"
        }
      ],
      "source": [
        "df[df.duplicated()]"
      ]
    },
    {
      "cell_type": "markdown",
      "metadata": {},
      "source": [
        "Eliminamos los duplicados"
      ]
    },
    {
      "cell_type": "code",
      "execution_count": 86,
      "metadata": {},
      "outputs": [],
      "source": [
        "df.drop_duplicates(inplace=True)"
      ]
    },
    {
      "cell_type": "markdown",
      "metadata": {},
      "source": [
        "Valido"
      ]
    },
    {
      "cell_type": "code",
      "execution_count": 87,
      "metadata": {},
      "outputs": [
        {
          "data": {
            "text/plain": [
              "(98, 14)"
            ]
          },
          "execution_count": 87,
          "metadata": {},
          "output_type": "execute_result"
        }
      ],
      "source": [
        "df.shape"
      ]
    },
    {
      "cell_type": "markdown",
      "metadata": {
        "id": "Tz6mAGobMFWc"
      },
      "source": [
        "## Identificacion y limpieza de datos atipicos"
      ]
    },
    {
      "cell_type": "code",
      "execution_count": 88,
      "metadata": {
        "colab": {
          "base_uri": "https://localhost:8080/",
          "height": 363
        },
        "id": "_u5e5RwjMV_T",
        "outputId": "d5c9830b-b46d-471f-f480-9c43651ad08f"
      },
      "outputs": [
        {
          "data": {
            "text/html": [
              "<div>\n",
              "<style scoped>\n",
              "    .dataframe tbody tr th:only-of-type {\n",
              "        vertical-align: middle;\n",
              "    }\n",
              "\n",
              "    .dataframe tbody tr th {\n",
              "        vertical-align: top;\n",
              "    }\n",
              "\n",
              "    .dataframe thead th {\n",
              "        text-align: right;\n",
              "    }\n",
              "</style>\n",
              "<table border=\"1\" class=\"dataframe\">\n",
              "  <thead>\n",
              "    <tr style=\"text-align: right;\">\n",
              "      <th></th>\n",
              "      <th>count</th>\n",
              "      <th>mean</th>\n",
              "      <th>std</th>\n",
              "      <th>min</th>\n",
              "      <th>25%</th>\n",
              "      <th>50%</th>\n",
              "      <th>75%</th>\n",
              "      <th>max</th>\n",
              "    </tr>\n",
              "  </thead>\n",
              "  <tbody>\n",
              "    <tr>\n",
              "      <th>Total_Revenue</th>\n",
              "      <td>98.0</td>\n",
              "      <td>2.477682e+10</td>\n",
              "      <td>1.365579e+10</td>\n",
              "      <td>1.045043e+09</td>\n",
              "      <td>1.258073e+10</td>\n",
              "      <td>2.339171e+10</td>\n",
              "      <td>3.465701e+10</td>\n",
              "      <td>4.998713e+10</td>\n",
              "    </tr>\n",
              "    <tr>\n",
              "      <th>Short_Term_Debt</th>\n",
              "      <td>98.0</td>\n",
              "      <td>1.029033e+09</td>\n",
              "      <td>5.940952e+08</td>\n",
              "      <td>4.918551e+06</td>\n",
              "      <td>5.103818e+08</td>\n",
              "      <td>1.039048e+09</td>\n",
              "      <td>1.536491e+09</td>\n",
              "      <td>1.960614e+09</td>\n",
              "    </tr>\n",
              "    <tr>\n",
              "      <th>Long_Term_Debt</th>\n",
              "      <td>98.0</td>\n",
              "      <td>5.224968e+09</td>\n",
              "      <td>2.741627e+09</td>\n",
              "      <td>8.056748e+07</td>\n",
              "      <td>2.755663e+09</td>\n",
              "      <td>5.748099e+09</td>\n",
              "      <td>7.453069e+09</td>\n",
              "      <td>9.901867e+09</td>\n",
              "    </tr>\n",
              "    <tr>\n",
              "      <th>Current_Assets</th>\n",
              "      <td>98.0</td>\n",
              "      <td>1.011030e+10</td>\n",
              "      <td>5.888219e+09</td>\n",
              "      <td>7.755746e+07</td>\n",
              "      <td>5.017796e+09</td>\n",
              "      <td>9.840490e+09</td>\n",
              "      <td>1.556249e+10</td>\n",
              "      <td>1.980115e+10</td>\n",
              "    </tr>\n",
              "    <tr>\n",
              "      <th>Current_Liabilities</th>\n",
              "      <td>98.0</td>\n",
              "      <td>1.105934e+09</td>\n",
              "      <td>5.759016e+08</td>\n",
              "      <td>1.773342e+07</td>\n",
              "      <td>7.538784e+08</td>\n",
              "      <td>1.157935e+09</td>\n",
              "      <td>1.583089e+09</td>\n",
              "      <td>1.987047e+09</td>\n",
              "    </tr>\n",
              "    <tr>\n",
              "      <th>Equity</th>\n",
              "      <td>98.0</td>\n",
              "      <td>1.553112e+10</td>\n",
              "      <td>8.385730e+09</td>\n",
              "      <td>2.069042e+08</td>\n",
              "      <td>8.064179e+09</td>\n",
              "      <td>1.578266e+10</td>\n",
              "      <td>2.291948e+10</td>\n",
              "      <td>2.949615e+10</td>\n",
              "    </tr>\n",
              "    <tr>\n",
              "      <th>Financial_Expenses</th>\n",
              "      <td>98.0</td>\n",
              "      <td>2.547154e+08</td>\n",
              "      <td>1.583867e+08</td>\n",
              "      <td>3.579765e+06</td>\n",
              "      <td>8.222626e+07</td>\n",
              "      <td>2.832565e+08</td>\n",
              "      <td>3.932561e+08</td>\n",
              "      <td>4.996004e+08</td>\n",
              "    </tr>\n",
              "    <tr>\n",
              "      <th>Current_Ratio</th>\n",
              "      <td>98.0</td>\n",
              "      <td>2.747816e+01</td>\n",
              "      <td>6.856558e+01</td>\n",
              "      <td>4.000000e-02</td>\n",
              "      <td>4.307500e+00</td>\n",
              "      <td>1.031000e+01</td>\n",
              "      <td>1.820000e+01</td>\n",
              "      <td>5.093500e+02</td>\n",
              "    </tr>\n",
              "    <tr>\n",
              "      <th>Debt_to_Equity_Ratio</th>\n",
              "      <td>98.0</td>\n",
              "      <td>6.597622e+01</td>\n",
              "      <td>2.808631e+02</td>\n",
              "      <td>3.000000e-02</td>\n",
              "      <td>2.425000e-01</td>\n",
              "      <td>4.200000e-01</td>\n",
              "      <td>8.050000e-01</td>\n",
              "      <td>1.271000e+03</td>\n",
              "    </tr>\n",
              "    <tr>\n",
              "      <th>Interest_Coverage_Ratio</th>\n",
              "      <td>98.0</td>\n",
              "      <td>3.004155e+02</td>\n",
              "      <td>6.832036e+02</td>\n",
              "      <td>1.085000e+01</td>\n",
              "      <td>4.761250e+01</td>\n",
              "      <td>1.013150e+02</td>\n",
              "      <td>2.082175e+02</td>\n",
              "      <td>5.287050e+03</td>\n",
              "    </tr>\n",
              "  </tbody>\n",
              "</table>\n",
              "</div>"
            ],
            "text/plain": [
              "                         count          mean           std           min  \\\n",
              "Total_Revenue             98.0  2.477682e+10  1.365579e+10  1.045043e+09   \n",
              "Short_Term_Debt           98.0  1.029033e+09  5.940952e+08  4.918551e+06   \n",
              "Long_Term_Debt            98.0  5.224968e+09  2.741627e+09  8.056748e+07   \n",
              "Current_Assets            98.0  1.011030e+10  5.888219e+09  7.755746e+07   \n",
              "Current_Liabilities       98.0  1.105934e+09  5.759016e+08  1.773342e+07   \n",
              "Equity                    98.0  1.553112e+10  8.385730e+09  2.069042e+08   \n",
              "Financial_Expenses        98.0  2.547154e+08  1.583867e+08  3.579765e+06   \n",
              "Current_Ratio             98.0  2.747816e+01  6.856558e+01  4.000000e-02   \n",
              "Debt_to_Equity_Ratio      98.0  6.597622e+01  2.808631e+02  3.000000e-02   \n",
              "Interest_Coverage_Ratio   98.0  3.004155e+02  6.832036e+02  1.085000e+01   \n",
              "\n",
              "                                  25%           50%           75%  \\\n",
              "Total_Revenue            1.258073e+10  2.339171e+10  3.465701e+10   \n",
              "Short_Term_Debt          5.103818e+08  1.039048e+09  1.536491e+09   \n",
              "Long_Term_Debt           2.755663e+09  5.748099e+09  7.453069e+09   \n",
              "Current_Assets           5.017796e+09  9.840490e+09  1.556249e+10   \n",
              "Current_Liabilities      7.538784e+08  1.157935e+09  1.583089e+09   \n",
              "Equity                   8.064179e+09  1.578266e+10  2.291948e+10   \n",
              "Financial_Expenses       8.222626e+07  2.832565e+08  3.932561e+08   \n",
              "Current_Ratio            4.307500e+00  1.031000e+01  1.820000e+01   \n",
              "Debt_to_Equity_Ratio     2.425000e-01  4.200000e-01  8.050000e-01   \n",
              "Interest_Coverage_Ratio  4.761250e+01  1.013150e+02  2.082175e+02   \n",
              "\n",
              "                                  max  \n",
              "Total_Revenue            4.998713e+10  \n",
              "Short_Term_Debt          1.960614e+09  \n",
              "Long_Term_Debt           9.901867e+09  \n",
              "Current_Assets           1.980115e+10  \n",
              "Current_Liabilities      1.987047e+09  \n",
              "Equity                   2.949615e+10  \n",
              "Financial_Expenses       4.996004e+08  \n",
              "Current_Ratio            5.093500e+02  \n",
              "Debt_to_Equity_Ratio     1.271000e+03  \n",
              "Interest_Coverage_Ratio  5.287050e+03  "
            ]
          },
          "execution_count": 88,
          "metadata": {},
          "output_type": "execute_result"
        }
      ],
      "source": [
        "df.describe().transpose()"
      ]
    },
    {
      "cell_type": "markdown",
      "metadata": {
        "id": "XA7UzcBIOmt0"
      },
      "source": [
        "Instalacion de librerias"
      ]
    },
    {
      "cell_type": "code",
      "execution_count": 89,
      "metadata": {
        "id": "YQlmTDo3OHLU"
      },
      "outputs": [],
      "source": [
        "import seaborn as sns\n",
        "import matplotlib.pyplot as plt"
      ]
    },
    {
      "cell_type": "markdown",
      "metadata": {},
      "source": [
        "Graficamos"
      ]
    },
    {
      "cell_type": "code",
      "execution_count": 90,
      "metadata": {},
      "outputs": [
        {
          "data": {
            "image/png": "[encoded data removed]",
            "text/plain": [
              "<Figure size 640x480 with 10 Axes>"
            ]
          },
          "metadata": {},
          "output_type": "display_data"
        }
      ],
      "source": [
        "columns = df.select_dtypes(\"float64\").columns\n",
        "total_columns = len(columns)\n",
        "fig, axes = plt.subplots(2,int(total_columns/2), constrained_layout=True)\n",
        "\n",
        "for index, column in  enumerate(df.select_dtypes(\"float64\").columns):\n",
        "\n",
        "    if index < int(total_columns/2):\n",
        "        row = 0\n",
        "    else:\n",
        "        row = 1\n",
        "        index = index - int(total_columns/2)\n",
        "    sns.boxplot(data=df[column], ax = axes[row][index])\n",
        "plt.show()"
      ]
    },
    {
      "cell_type": "markdown",
      "metadata": {},
      "source": [
        "### Current_Ratio"
      ]
    },
    {
      "cell_type": "code",
      "execution_count": 91,
      "metadata": {
        "colab": {
          "base_uri": "https://localhost:8080/",
          "height": 433
        },
        "id": "OeTCIPLZO1M5",
        "outputId": "8769e846-7d05-457f-baa4-e793f7461fe3"
      },
      "outputs": [
        {
          "data": {
            "text/plain": [
              "<Axes: ylabel='Current_Ratio'>"
            ]
          },
          "execution_count": 91,
          "metadata": {},
          "output_type": "execute_result"
        },
        {
          "data": {
            "image/png": "[encoded data removed]",
            "text/plain": [
              "<Figure size 640x480 with 1 Axes>"
            ]
          },
          "metadata": {},
          "output_type": "display_data"
        }
      ],
      "source": [
        "sns.boxplot(data=df[\"Current_Ratio\"])"
      ]
    },
    {
      "cell_type": "code",
      "execution_count": 92,
      "metadata": {},
      "outputs": [
        {
          "data": {
            "text/plain": [
              "<Axes: ylabel='Current_Ratio'>"
            ]
          },
          "execution_count": 92,
          "metadata": {},
          "output_type": "execute_result"
        },
        {
          "data": {
            "image/png": "[encoded data removed]",
            "text/plain": [
              "<Figure size 640x480 with 1 Axes>"
            ]
          },
          "metadata": {},
          "output_type": "display_data"
        }
      ],
      "source": [
        "sns.boxplot(data=df[\"Current_Ratio\"].loc[df[\"Current_Ratio\"]>35])"
      ]
    },
    {
      "cell_type": "markdown",
      "metadata": {},
      "source": [
        "Current_Ratio = Current_Assets / Current_Liabilities"
      ]
    },
    {
      "cell_type": "code",
      "execution_count": 93,
      "metadata": {},
      "outputs": [],
      "source": [
        "df[\"Calculated_CR\"] = round(df[\"Current_Assets\"]/df[\"Current_Liabilities\"],2)"
      ]
    },
    {
      "cell_type": "code",
      "execution_count": 94,
      "metadata": {},
      "outputs": [
        {
          "data": {
            "text/html": [
              "<div>\n",
              "<style scoped>\n",
              "    .dataframe tbody tr th:only-of-type {\n",
              "        vertical-align: middle;\n",
              "    }\n",
              "\n",
              "    .dataframe tbody tr th {\n",
              "        vertical-align: top;\n",
              "    }\n",
              "\n",
              "    .dataframe thead th {\n",
              "        text-align: right;\n",
              "    }\n",
              "</style>\n",
              "<table border=\"1\" class=\"dataframe\">\n",
              "  <thead>\n",
              "    <tr style=\"text-align: right;\">\n",
              "      <th></th>\n",
              "      <th>Company_ID</th>\n",
              "      <th>Total_Revenue</th>\n",
              "      <th>Short_Term_Debt</th>\n",
              "      <th>Long_Term_Debt</th>\n",
              "      <th>Current_Assets</th>\n",
              "      <th>Current_Liabilities</th>\n",
              "      <th>Equity</th>\n",
              "      <th>Financial_Expenses</th>\n",
              "      <th>Current_Ratio</th>\n",
              "      <th>Debt_to_Equity_Ratio</th>\n",
              "      <th>Interest_Coverage_Ratio</th>\n",
              "      <th>Industry</th>\n",
              "      <th>Country</th>\n",
              "      <th>Company_Size</th>\n",
              "      <th>Calculated_CR</th>\n",
              "    </tr>\n",
              "  </thead>\n",
              "  <tbody>\n",
              "  </tbody>\n",
              "</table>\n",
              "</div>"
            ],
            "text/plain": [
              "Empty DataFrame\n",
              "Columns: [Company_ID, Total_Revenue, Short_Term_Debt, Long_Term_Debt, Current_Assets, Current_Liabilities, Equity, Financial_Expenses, Current_Ratio, Debt_to_Equity_Ratio, Interest_Coverage_Ratio, Industry, Country, Company_Size, Calculated_CR]\n",
              "Index: []"
            ]
          },
          "execution_count": 94,
          "metadata": {},
          "output_type": "execute_result"
        }
      ],
      "source": [
        "df.loc[df[\"Calculated_CR\"] != df[\"Current_Ratio\"]]"
      ]
    },
    {
      "cell_type": "markdown",
      "metadata": {},
      "source": [
        "### Debt_to_Equity_Ratio"
      ]
    },
    {
      "cell_type": "code",
      "execution_count": 95,
      "metadata": {},
      "outputs": [
        {
          "data": {
            "text/plain": [
              "<Axes: ylabel='Debt_to_Equity_Ratio'>"
            ]
          },
          "execution_count": 95,
          "metadata": {},
          "output_type": "execute_result"
        },
        {
          "data": {
            "image/png": "[encoded data removed]",
            "text/plain": [
              "<Figure size 640x480 with 1 Axes>"
            ]
          },
          "metadata": {},
          "output_type": "display_data"
        }
      ],
      "source": [
        "sns.boxplot(data=df[\"Debt_to_Equity_Ratio\"])"
      ]
    },
    {
      "cell_type": "markdown",
      "metadata": {},
      "source": [
        "Short_Term_Debt+Long_Term_Debt/Equity"
      ]
    },
    {
      "cell_type": "code",
      "execution_count": 97,
      "metadata": {},
      "outputs": [],
      "source": [
        "df[\"Calculated_DER\"] = round((df[\"Short_Term_Debt\"]+df[\"Long_Term_Debt\"])/df[\"Equity\"],2)"
      ]
    },
    {
      "cell_type": "markdown",
      "metadata": {},
      "source": [
        "Reviso si hay diferencias vs lo calculado"
      ]
    },
    {
      "cell_type": "code",
      "execution_count": 100,
      "metadata": {},
      "outputs": [
        {
          "data": {
            "text/html": [
              "<div>\n",
              "<style scoped>\n",
              "    .dataframe tbody tr th:only-of-type {\n",
              "        vertical-align: middle;\n",
              "    }\n",
              "\n",
              "    .dataframe tbody tr th {\n",
              "        vertical-align: top;\n",
              "    }\n",
              "\n",
              "    .dataframe thead th {\n",
              "        text-align: right;\n",
              "    }\n",
              "</style>\n",
              "<table border=\"1\" class=\"dataframe\">\n",
              "  <thead>\n",
              "    <tr style=\"text-align: right;\">\n",
              "      <th></th>\n",
              "      <th>Company_ID</th>\n",
              "      <th>Total_Revenue</th>\n",
              "      <th>Short_Term_Debt</th>\n",
              "      <th>Long_Term_Debt</th>\n",
              "      <th>Current_Assets</th>\n",
              "      <th>Current_Liabilities</th>\n",
              "      <th>Equity</th>\n",
              "      <th>Financial_Expenses</th>\n",
              "      <th>Current_Ratio</th>\n",
              "      <th>Debt_to_Equity_Ratio</th>\n",
              "      <th>Interest_Coverage_Ratio</th>\n",
              "      <th>Industry</th>\n",
              "      <th>Country</th>\n",
              "      <th>Company_Size</th>\n",
              "      <th>Calculated_CR</th>\n",
              "      <th>Calculated_DER</th>\n",
              "    </tr>\n",
              "  </thead>\n",
              "  <tbody>\n",
              "    <tr>\n",
              "      <th>3</th>\n",
              "      <td>C0004</td>\n",
              "      <td>8.187718e+09</td>\n",
              "      <td>4.930008e+08</td>\n",
              "      <td>8.082415e+09</td>\n",
              "      <td>1.860758e+10</td>\n",
              "      <td>1.959019e+09</td>\n",
              "      <td>2.170094e+10</td>\n",
              "      <td>4.335059e+08</td>\n",
              "      <td>9.50</td>\n",
              "      <td>1271.0</td>\n",
              "      <td>18.89</td>\n",
              "      <td>Tecnología</td>\n",
              "      <td>Estados Unidos</td>\n",
              "      <td>Grande</td>\n",
              "      <td>9.50</td>\n",
              "      <td>0.40</td>\n",
              "    </tr>\n",
              "    <tr>\n",
              "      <th>6</th>\n",
              "      <td>C0007</td>\n",
              "      <td>3.320348e+10</td>\n",
              "      <td>1.711320e+08</td>\n",
              "      <td>4.680667e+09</td>\n",
              "      <td>1.615755e+10</td>\n",
              "      <td>1.338509e+09</td>\n",
              "      <td>2.286229e+10</td>\n",
              "      <td>3.570077e+08</td>\n",
              "      <td>12.07</td>\n",
              "      <td>1271.0</td>\n",
              "      <td>93.00</td>\n",
              "      <td>Manufactura</td>\n",
              "      <td>Estados Unidos</td>\n",
              "      <td>Grande</td>\n",
              "      <td>12.07</td>\n",
              "      <td>0.21</td>\n",
              "    </tr>\n",
              "    <tr>\n",
              "      <th>65</th>\n",
              "      <td>C0066</td>\n",
              "      <td>2.024254e+10</td>\n",
              "      <td>1.499083e+09</td>\n",
              "      <td>7.003470e+09</td>\n",
              "      <td>1.861693e+09</td>\n",
              "      <td>2.208871e+08</td>\n",
              "      <td>2.774827e+10</td>\n",
              "      <td>4.936319e+08</td>\n",
              "      <td>8.43</td>\n",
              "      <td>1271.0</td>\n",
              "      <td>41.01</td>\n",
              "      <td>Tecnología</td>\n",
              "      <td>China</td>\n",
              "      <td>Pequeña</td>\n",
              "      <td>8.43</td>\n",
              "      <td>0.31</td>\n",
              "    </tr>\n",
              "    <tr>\n",
              "      <th>72</th>\n",
              "      <td>C0073</td>\n",
              "      <td>3.833709e+10</td>\n",
              "      <td>7.741048e+08</td>\n",
              "      <td>4.973246e+09</td>\n",
              "      <td>4.037436e+09</td>\n",
              "      <td>1.339400e+09</td>\n",
              "      <td>1.900637e+10</td>\n",
              "      <td>4.021822e+08</td>\n",
              "      <td>3.01</td>\n",
              "      <td>1271.0</td>\n",
              "      <td>95.32</td>\n",
              "      <td>Manufactura</td>\n",
              "      <td>Estados Unidos</td>\n",
              "      <td>Pequeña</td>\n",
              "      <td>3.01</td>\n",
              "      <td>0.30</td>\n",
              "    </tr>\n",
              "    <tr>\n",
              "      <th>91</th>\n",
              "      <td>C0092</td>\n",
              "      <td>3.005507e+10</td>\n",
              "      <td>1.728002e+09</td>\n",
              "      <td>7.049495e+09</td>\n",
              "      <td>3.502172e+09</td>\n",
              "      <td>1.039391e+09</td>\n",
              "      <td>1.578266e+10</td>\n",
              "      <td>6.636620e+07</td>\n",
              "      <td>3.37</td>\n",
              "      <td>1271.0</td>\n",
              "      <td>452.87</td>\n",
              "      <td>Tecnología</td>\n",
              "      <td>China</td>\n",
              "      <td>Pequeña</td>\n",
              "      <td>3.37</td>\n",
              "      <td>0.56</td>\n",
              "    </tr>\n",
              "  </tbody>\n",
              "</table>\n",
              "</div>"
            ],
            "text/plain": [
              "   Company_ID  Total_Revenue  Short_Term_Debt  Long_Term_Debt  Current_Assets  \\\n",
              "3       C0004   8.187718e+09     4.930008e+08    8.082415e+09    1.860758e+10   \n",
              "6       C0007   3.320348e+10     1.711320e+08    4.680667e+09    1.615755e+10   \n",
              "65      C0066   2.024254e+10     1.499083e+09    7.003470e+09    1.861693e+09   \n",
              "72      C0073   3.833709e+10     7.741048e+08    4.973246e+09    4.037436e+09   \n",
              "91      C0092   3.005507e+10     1.728002e+09    7.049495e+09    3.502172e+09   \n",
              "\n",
              "    Current_Liabilities        Equity  Financial_Expenses  Current_Ratio  \\\n",
              "3          1.959019e+09  2.170094e+10        4.335059e+08           9.50   \n",
              "6          1.338509e+09  2.286229e+10        3.570077e+08          12.07   \n",
              "65         2.208871e+08  2.774827e+10        4.936319e+08           8.43   \n",
              "72         1.339400e+09  1.900637e+10        4.021822e+08           3.01   \n",
              "91         1.039391e+09  1.578266e+10        6.636620e+07           3.37   \n",
              "\n",
              "    Debt_to_Equity_Ratio  Interest_Coverage_Ratio     Industry  \\\n",
              "3                 1271.0                    18.89   Tecnología   \n",
              "6                 1271.0                    93.00  Manufactura   \n",
              "65                1271.0                    41.01   Tecnología   \n",
              "72                1271.0                    95.32  Manufactura   \n",
              "91                1271.0                   452.87   Tecnología   \n",
              "\n",
              "           Country Company_Size  Calculated_CR  Calculated_DER  \n",
              "3   Estados Unidos       Grande           9.50            0.40  \n",
              "6   Estados Unidos       Grande          12.07            0.21  \n",
              "65           China      Pequeña           8.43            0.31  \n",
              "72  Estados Unidos      Pequeña           3.01            0.30  \n",
              "91           China      Pequeña           3.37            0.56  "
            ]
          },
          "execution_count": 100,
          "metadata": {},
          "output_type": "execute_result"
        }
      ],
      "source": [
        "df.loc[(df[\"Calculated_DER\"] != df[\"Debt_to_Equity_Ratio\"])]"
      ]
    },
    {
      "cell_type": "markdown",
      "metadata": {},
      "source": [
        "Sustituyo"
      ]
    },
    {
      "cell_type": "code",
      "execution_count": 101,
      "metadata": {},
      "outputs": [],
      "source": [
        "df.loc[(df[\"Calculated_DER\"] != df[\"Debt_to_Equity_Ratio\"]),[\"Debt_to_Equity_Ratio\"]] = df[\"Calculated_DER\"]"
      ]
    },
    {
      "cell_type": "markdown",
      "metadata": {},
      "source": [
        "Graficamos de nuevo"
      ]
    },
    {
      "cell_type": "code",
      "execution_count": 102,
      "metadata": {},
      "outputs": [
        {
          "data": {
            "text/plain": [
              "<Axes: ylabel='Debt_to_Equity_Ratio'>"
            ]
          },
          "execution_count": 102,
          "metadata": {},
          "output_type": "execute_result"
        },
        {
          "data": {
            "image/png": "[encoded data removed]",
            "text/plain": [
              "<Figure size 640x480 with 1 Axes>"
            ]
          },
          "metadata": {},
          "output_type": "display_data"
        }
      ],
      "source": [
        "sns.boxplot(data=df[\"Debt_to_Equity_Ratio\"])"
      ]
    },
    {
      "cell_type": "markdown",
      "metadata": {},
      "source": [
        "### Interest_Coverage_Ratio"
      ]
    },
    {
      "cell_type": "code",
      "execution_count": 52,
      "metadata": {},
      "outputs": [
        {
          "data": {
            "text/plain": [
              "<Axes: ylabel='Interest_Coverage_Ratio'>"
            ]
          },
          "execution_count": 52,
          "metadata": {},
          "output_type": "execute_result"
        },
        {
          "data": {
            "image/png": "[encoded data removed]",
            "text/plain": [
              "<Figure size 640x480 with 1 Axes>"
            ]
          },
          "metadata": {},
          "output_type": "display_data"
        }
      ],
      "source": [
        "sns.boxplot(data=df[\"Interest_Coverage_Ratio\"])"
      ]
    },
    {
      "cell_type": "markdown",
      "metadata": {},
      "source": [
        "Calculo el Interest_Coverage_Ratio"
      ]
    },
    {
      "cell_type": "code",
      "execution_count": 103,
      "metadata": {},
      "outputs": [],
      "source": [
        "df[\"Calculated_ICR\"] = round(df[\"Total_Revenue\"]/df[\"Financial_Expenses\"],2)"
      ]
    },
    {
      "cell_type": "markdown",
      "metadata": {},
      "source": [
        "Comparo"
      ]
    },
    {
      "cell_type": "code",
      "execution_count": 104,
      "metadata": {},
      "outputs": [
        {
          "data": {
            "text/html": [
              "<div>\n",
              "<style scoped>\n",
              "    .dataframe tbody tr th:only-of-type {\n",
              "        vertical-align: middle;\n",
              "    }\n",
              "\n",
              "    .dataframe tbody tr th {\n",
              "        vertical-align: top;\n",
              "    }\n",
              "\n",
              "    .dataframe thead th {\n",
              "        text-align: right;\n",
              "    }\n",
              "</style>\n",
              "<table border=\"1\" class=\"dataframe\">\n",
              "  <thead>\n",
              "    <tr style=\"text-align: right;\">\n",
              "      <th></th>\n",
              "      <th>Company_ID</th>\n",
              "      <th>Total_Revenue</th>\n",
              "      <th>Short_Term_Debt</th>\n",
              "      <th>Long_Term_Debt</th>\n",
              "      <th>Current_Assets</th>\n",
              "      <th>Current_Liabilities</th>\n",
              "      <th>Equity</th>\n",
              "      <th>Financial_Expenses</th>\n",
              "      <th>Current_Ratio</th>\n",
              "      <th>Debt_to_Equity_Ratio</th>\n",
              "      <th>Interest_Coverage_Ratio</th>\n",
              "      <th>Industry</th>\n",
              "      <th>Country</th>\n",
              "      <th>Company_Size</th>\n",
              "      <th>Calculated_CR</th>\n",
              "      <th>Calculated_DER</th>\n",
              "      <th>Calculated_ICR</th>\n",
              "    </tr>\n",
              "  </thead>\n",
              "  <tbody>\n",
              "  </tbody>\n",
              "</table>\n",
              "</div>"
            ],
            "text/plain": [
              "Empty DataFrame\n",
              "Columns: [Company_ID, Total_Revenue, Short_Term_Debt, Long_Term_Debt, Current_Assets, Current_Liabilities, Equity, Financial_Expenses, Current_Ratio, Debt_to_Equity_Ratio, Interest_Coverage_Ratio, Industry, Country, Company_Size, Calculated_CR, Calculated_DER, Calculated_ICR]\n",
              "Index: []"
            ]
          },
          "execution_count": 104,
          "metadata": {},
          "output_type": "execute_result"
        }
      ],
      "source": [
        "df.loc[df[\"Calculated_ICR\"]!=df[\"Interest_Coverage_Ratio\"]]"
      ]
    },
    {
      "cell_type": "code",
      "execution_count": 105,
      "metadata": {},
      "outputs": [
        {
          "data": {
            "text/plain": [
              "<Axes: ylabel='Interest_Coverage_Ratio'>"
            ]
          },
          "execution_count": 105,
          "metadata": {},
          "output_type": "execute_result"
        },
        {
          "data": {
            "image/png": "[encoded data removed]",
            "text/plain": [
              "<Figure size 640x480 with 1 Axes>"
            ]
          },
          "metadata": {},
          "output_type": "display_data"
        }
      ],
      "source": [
        "sns.boxplot(data=df[\"Interest_Coverage_Ratio\"].loc[df[\"Interest_Coverage_Ratio\"]>1000])"
      ]
    },
    {
      "cell_type": "markdown",
      "metadata": {},
      "source": [
        "Limito el Interest_Coverage_Ratio a 2000"
      ]
    },
    {
      "cell_type": "code",
      "execution_count": 106,
      "metadata": {},
      "outputs": [],
      "source": [
        "df.loc[df[\"Interest_Coverage_Ratio\"] > 2000,[\"Interest_Coverage_Ratio\"]] = 2000"
      ]
    },
    {
      "cell_type": "markdown",
      "metadata": {},
      "source": [
        "## Limpieza de campos adicionales y exportacion"
      ]
    },
    {
      "cell_type": "markdown",
      "metadata": {},
      "source": [
        "Elimino los campos intermedios que se utilizaron en la limpieza"
      ]
    },
    {
      "cell_type": "code",
      "execution_count": 107,
      "metadata": {},
      "outputs": [],
      "source": [
        "df.drop(columns=[\"Calculated_CR\",\"Calculated_DER\",\"Calculated_ICR\"],inplace=True)\n"
      ]
    },
    {
      "cell_type": "markdown",
      "metadata": {},
      "source": [
        "Valido"
      ]
    },
    {
      "cell_type": "code",
      "execution_count": 108,
      "metadata": {},
      "outputs": [
        {
          "data": {
            "text/html": [
              "<div>\n",
              "<style scoped>\n",
              "    .dataframe tbody tr th:only-of-type {\n",
              "        vertical-align: middle;\n",
              "    }\n",
              "\n",
              "    .dataframe tbody tr th {\n",
              "        vertical-align: top;\n",
              "    }\n",
              "\n",
              "    .dataframe thead th {\n",
              "        text-align: right;\n",
              "    }\n",
              "</style>\n",
              "<table border=\"1\" class=\"dataframe\">\n",
              "  <thead>\n",
              "    <tr style=\"text-align: right;\">\n",
              "      <th></th>\n",
              "      <th>Company_ID</th>\n",
              "      <th>Total_Revenue</th>\n",
              "      <th>Short_Term_Debt</th>\n",
              "      <th>Long_Term_Debt</th>\n",
              "      <th>Current_Assets</th>\n",
              "      <th>Current_Liabilities</th>\n",
              "      <th>Equity</th>\n",
              "      <th>Financial_Expenses</th>\n",
              "      <th>Current_Ratio</th>\n",
              "      <th>Debt_to_Equity_Ratio</th>\n",
              "      <th>Interest_Coverage_Ratio</th>\n",
              "      <th>Industry</th>\n",
              "      <th>Country</th>\n",
              "      <th>Company_Size</th>\n",
              "    </tr>\n",
              "  </thead>\n",
              "  <tbody>\n",
              "    <tr>\n",
              "      <th>0</th>\n",
              "      <td>C0001</td>\n",
              "      <td>3.347816e+10</td>\n",
              "      <td>5.495948e+08</td>\n",
              "      <td>2.278415e+09</td>\n",
              "      <td>6.538713e+09</td>\n",
              "      <td>1.331093e+08</td>\n",
              "      <td>2.293854e+10</td>\n",
              "      <td>3.864617e+08</td>\n",
              "      <td>49.12</td>\n",
              "      <td>0.12</td>\n",
              "      <td>86.63</td>\n",
              "      <td>Tecnología</td>\n",
              "      <td>Alemania</td>\n",
              "      <td>Mediana</td>\n",
              "    </tr>\n",
              "    <tr>\n",
              "      <th>1</th>\n",
              "      <td>C0002</td>\n",
              "      <td>2.477267e+10</td>\n",
              "      <td>1.320539e+09</td>\n",
              "      <td>1.651796e+09</td>\n",
              "      <td>1.939125e+10</td>\n",
              "      <td>8.864651e+08</td>\n",
              "      <td>2.949615e+10</td>\n",
              "      <td>1.652171e+08</td>\n",
              "      <td>21.87</td>\n",
              "      <td>0.10</td>\n",
              "      <td>149.94</td>\n",
              "      <td>Tecnología</td>\n",
              "      <td>México</td>\n",
              "      <td>Mediana</td>\n",
              "    </tr>\n",
              "    <tr>\n",
              "      <th>2</th>\n",
              "      <td>C0003</td>\n",
              "      <td>2.281084e+10</td>\n",
              "      <td>7.473215e+08</td>\n",
              "      <td>8.511983e+09</td>\n",
              "      <td>7.443570e+09</td>\n",
              "      <td>1.982664e+09</td>\n",
              "      <td>2.571465e+10</td>\n",
              "      <td>5.197711e+07</td>\n",
              "      <td>3.75</td>\n",
              "      <td>0.36</td>\n",
              "      <td>438.86</td>\n",
              "      <td>Retail</td>\n",
              "      <td>Alemania</td>\n",
              "      <td>Mediana</td>\n",
              "    </tr>\n",
              "    <tr>\n",
              "      <th>3</th>\n",
              "      <td>C0004</td>\n",
              "      <td>8.187718e+09</td>\n",
              "      <td>4.930008e+08</td>\n",
              "      <td>8.082415e+09</td>\n",
              "      <td>1.860758e+10</td>\n",
              "      <td>1.959019e+09</td>\n",
              "      <td>2.170094e+10</td>\n",
              "      <td>4.335059e+08</td>\n",
              "      <td>9.50</td>\n",
              "      <td>0.40</td>\n",
              "      <td>18.89</td>\n",
              "      <td>Tecnología</td>\n",
              "      <td>Estados Unidos</td>\n",
              "      <td>Grande</td>\n",
              "    </tr>\n",
              "    <tr>\n",
              "      <th>4</th>\n",
              "      <td>C0005</td>\n",
              "      <td>1.484683e+10</td>\n",
              "      <td>1.943282e+09</td>\n",
              "      <td>2.758103e+09</td>\n",
              "      <td>4.151931e+09</td>\n",
              "      <td>1.651759e+09</td>\n",
              "      <td>8.839496e+09</td>\n",
              "      <td>1.665935e+07</td>\n",
              "      <td>2.51</td>\n",
              "      <td>0.53</td>\n",
              "      <td>891.20</td>\n",
              "      <td>Salud</td>\n",
              "      <td>Alemania</td>\n",
              "      <td>Mediana</td>\n",
              "    </tr>\n",
              "    <tr>\n",
              "      <th>5</th>\n",
              "      <td>C0006</td>\n",
              "      <td>1.099748e+10</td>\n",
              "      <td>6.621239e+08</td>\n",
              "      <td>2.764835e+09</td>\n",
              "      <td>9.869102e+09</td>\n",
              "      <td>8.481944e+08</td>\n",
              "      <td>3.731250e+09</td>\n",
              "      <td>2.802825e+08</td>\n",
              "      <td>11.64</td>\n",
              "      <td>0.92</td>\n",
              "      <td>39.24</td>\n",
              "      <td>Salud</td>\n",
              "      <td>México</td>\n",
              "      <td>Mediana</td>\n",
              "    </tr>\n",
              "    <tr>\n",
              "      <th>6</th>\n",
              "      <td>C0007</td>\n",
              "      <td>3.320348e+10</td>\n",
              "      <td>1.711320e+08</td>\n",
              "      <td>4.680667e+09</td>\n",
              "      <td>1.615755e+10</td>\n",
              "      <td>1.338509e+09</td>\n",
              "      <td>2.286229e+10</td>\n",
              "      <td>3.570077e+08</td>\n",
              "      <td>12.07</td>\n",
              "      <td>0.21</td>\n",
              "      <td>93.00</td>\n",
              "      <td>Manufactura</td>\n",
              "      <td>Estados Unidos</td>\n",
              "      <td>Grande</td>\n",
              "    </tr>\n",
              "    <tr>\n",
              "      <th>7</th>\n",
              "      <td>C0008</td>\n",
              "      <td>3.575152e+10</td>\n",
              "      <td>8.353767e+08</td>\n",
              "      <td>8.056748e+07</td>\n",
              "      <td>1.645370e+10</td>\n",
              "      <td>1.314809e+09</td>\n",
              "      <td>6.804570e+09</td>\n",
              "      <td>1.923786e+07</td>\n",
              "      <td>12.51</td>\n",
              "      <td>0.13</td>\n",
              "      <td>1858.39</td>\n",
              "      <td>Manufactura</td>\n",
              "      <td>Estados Unidos</td>\n",
              "      <td>Grande</td>\n",
              "    </tr>\n",
              "    <tr>\n",
              "      <th>8</th>\n",
              "      <td>C0009</td>\n",
              "      <td>9.153223e+09</td>\n",
              "      <td>5.783346e+07</td>\n",
              "      <td>6.335196e+09</td>\n",
              "      <td>7.953471e+09</td>\n",
              "      <td>1.753550e+09</td>\n",
              "      <td>1.077667e+10</td>\n",
              "      <td>6.505931e+07</td>\n",
              "      <td>4.54</td>\n",
              "      <td>0.59</td>\n",
              "      <td>140.69</td>\n",
              "      <td>Finanzas</td>\n",
              "      <td>China</td>\n",
              "      <td>Grande</td>\n",
              "    </tr>\n",
              "    <tr>\n",
              "      <th>9</th>\n",
              "      <td>C0010</td>\n",
              "      <td>3.565230e+09</td>\n",
              "      <td>1.931868e+09</td>\n",
              "      <td>1.235623e+09</td>\n",
              "      <td>9.811878e+09</td>\n",
              "      <td>4.330429e+08</td>\n",
              "      <td>2.030916e+10</td>\n",
              "      <td>1.436897e+08</td>\n",
              "      <td>22.66</td>\n",
              "      <td>0.16</td>\n",
              "      <td>24.81</td>\n",
              "      <td>Retail</td>\n",
              "      <td>Alemania</td>\n",
              "      <td>Pequeña</td>\n",
              "    </tr>\n",
              "  </tbody>\n",
              "</table>\n",
              "</div>"
            ],
            "text/plain": [
              "  Company_ID  Total_Revenue  Short_Term_Debt  Long_Term_Debt  Current_Assets  \\\n",
              "0      C0001   3.347816e+10     5.495948e+08    2.278415e+09    6.538713e+09   \n",
              "1      C0002   2.477267e+10     1.320539e+09    1.651796e+09    1.939125e+10   \n",
              "2      C0003   2.281084e+10     7.473215e+08    8.511983e+09    7.443570e+09   \n",
              "3      C0004   8.187718e+09     4.930008e+08    8.082415e+09    1.860758e+10   \n",
              "4      C0005   1.484683e+10     1.943282e+09    2.758103e+09    4.151931e+09   \n",
              "5      C0006   1.099748e+10     6.621239e+08    2.764835e+09    9.869102e+09   \n",
              "6      C0007   3.320348e+10     1.711320e+08    4.680667e+09    1.615755e+10   \n",
              "7      C0008   3.575152e+10     8.353767e+08    8.056748e+07    1.645370e+10   \n",
              "8      C0009   9.153223e+09     5.783346e+07    6.335196e+09    7.953471e+09   \n",
              "9      C0010   3.565230e+09     1.931868e+09    1.235623e+09    9.811878e+09   \n",
              "\n",
              "   Current_Liabilities        Equity  Financial_Expenses  Current_Ratio  \\\n",
              "0         1.331093e+08  2.293854e+10        3.864617e+08          49.12   \n",
              "1         8.864651e+08  2.949615e+10        1.652171e+08          21.87   \n",
              "2         1.982664e+09  2.571465e+10        5.197711e+07           3.75   \n",
              "3         1.959019e+09  2.170094e+10        4.335059e+08           9.50   \n",
              "4         1.651759e+09  8.839496e+09        1.665935e+07           2.51   \n",
              "5         8.481944e+08  3.731250e+09        2.802825e+08          11.64   \n",
              "6         1.338509e+09  2.286229e+10        3.570077e+08          12.07   \n",
              "7         1.314809e+09  6.804570e+09        1.923786e+07          12.51   \n",
              "8         1.753550e+09  1.077667e+10        6.505931e+07           4.54   \n",
              "9         4.330429e+08  2.030916e+10        1.436897e+08          22.66   \n",
              "\n",
              "   Debt_to_Equity_Ratio  Interest_Coverage_Ratio     Industry         Country  \\\n",
              "0                  0.12                    86.63   Tecnología        Alemania   \n",
              "1                  0.10                   149.94   Tecnología          México   \n",
              "2                  0.36                   438.86       Retail        Alemania   \n",
              "3                  0.40                    18.89   Tecnología  Estados Unidos   \n",
              "4                  0.53                   891.20        Salud        Alemania   \n",
              "5                  0.92                    39.24        Salud          México   \n",
              "6                  0.21                    93.00  Manufactura  Estados Unidos   \n",
              "7                  0.13                  1858.39  Manufactura  Estados Unidos   \n",
              "8                  0.59                   140.69     Finanzas           China   \n",
              "9                  0.16                    24.81       Retail        Alemania   \n",
              "\n",
              "  Company_Size  \n",
              "0      Mediana  \n",
              "1      Mediana  \n",
              "2      Mediana  \n",
              "3       Grande  \n",
              "4      Mediana  \n",
              "5      Mediana  \n",
              "6       Grande  \n",
              "7       Grande  \n",
              "8       Grande  \n",
              "9      Pequeña  "
            ]
          },
          "execution_count": 108,
          "metadata": {},
          "output_type": "execute_result"
        }
      ],
      "source": [
        "df.head(10)"
      ]
    },
    {
      "cell_type": "markdown",
      "metadata": {},
      "source": [
        "Exporto el Df a un csv nuevo"
      ]
    },
    {
      "cell_type": "code",
      "execution_count": 109,
      "metadata": {},
      "outputs": [],
      "source": [
        "df.to_csv(\"DataSet/Datos_proyecto_limpio.csv\")"
      ]
    }
  ],
  "metadata": {
    "colab": {
      "provenance": []
    },
    "kernelspec": {
      "display_name": "Python 3",
      "name": "python3"
    },
    "language_info": {
      "codemirror_mode": {
        "name": "ipython",
        "version": 3
      },
      "file_extension": ".py",
      "mimetype": "text/x-python",
      "name": "python",
      "nbconvert_exporter": "python",
      "pygments_lexer": "ipython3",
      "version": "3.11.0"
    }
  },
  "nbformat": 4,
  "nbformat_minor": 0
}
