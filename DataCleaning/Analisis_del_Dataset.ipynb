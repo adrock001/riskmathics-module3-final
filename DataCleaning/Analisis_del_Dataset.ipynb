{
  "cells": [
    {
      "cell_type": "markdown",
      "metadata": {
        "id": "rZGuyBXgGwJa"
      },
      "source": [
        "# Carga del dataset"
      ]
    },
    {
      "cell_type": "markdown",
      "metadata": {
        "id": "nCsTU4ZOG9IM"
      },
      "source": [
        "Coneccion con drive"
      ]
    },
    {
      "cell_type": "code",
      "execution_count": null,
      "metadata": {
        "colab": {
          "base_uri": "https://localhost:8080/"
        },
        "id": "rsr9FM7iG0h8",
        "outputId": "97335042-220e-4ef3-edda-8d25461d44cd"
      },
      "outputs": [],
      "source": [
        "from google.colab import drive\n",
        "drive.mount('/content/drive')"
      ]
    },
    {
      "cell_type": "markdown",
      "metadata": {
        "id": "Z8Z77No6Hdci"
      },
      "source": [
        "Importacion de librerias"
      ]
    },
    {
      "cell_type": "code",
      "execution_count": 1,
      "metadata": {
        "id": "Zfym6hcBHYPQ"
      },
      "outputs": [],
      "source": [
        "import pandas as pd"
      ]
    },
    {
      "cell_type": "markdown",
      "metadata": {
        "id": "ZGkt3KjWHvH4"
      },
      "source": [
        "Cargamos el dataset en un dataframe de pandas"
      ]
    },
    {
      "cell_type": "code",
      "execution_count": 2,
      "metadata": {
        "id": "793DF_O9Hzd8"
      },
      "outputs": [],
      "source": [
        "# df = pd.read_csv(\"/content/drive/MyDrive/Diplomado IA/Modulo 3/Trabajo Final/Datos_proyecto.csv\")\n",
        "df = pd.read_csv(\"DataSet/Datos_proyecto.csv\")"
      ]
    },
    {
      "cell_type": "markdown",
      "metadata": {
        "id": "hvLj0e2KIXHk"
      },
      "source": [
        "# Analisis de los datos"
      ]
    },
    {
      "cell_type": "markdown",
      "metadata": {
        "id": "VPkY-QU7Jg1m"
      },
      "source": [
        "## Composicion y tipos de dato"
      ]
    },
    {
      "cell_type": "code",
      "execution_count": 3,
      "metadata": {
        "colab": {
          "base_uri": "https://localhost:8080/"
        },
        "id": "Bl9RlaKGIi6l",
        "outputId": "56c59274-b7db-432f-cc0b-541c1f70daa4"
      },
      "outputs": [
        {
          "data": {
            "text/plain": [
              "(105, 14)"
            ]
          },
          "execution_count": 3,
          "metadata": {},
          "output_type": "execute_result"
        }
      ],
      "source": [
        "df.shape"
      ]
    },
    {
      "cell_type": "code",
      "execution_count": 4,
      "metadata": {
        "colab": {
          "base_uri": "https://localhost:8080/",
          "height": 435
        },
        "id": "KxYXfJUuJF2N",
        "outputId": "9254f7d6-167c-4e44-bd67-de9f4bf040e2"
      },
      "outputs": [
        {
          "data": {
            "text/html": [
              "<div>\n",
              "<style scoped>\n",
              "    .dataframe tbody tr th:only-of-type {\n",
              "        vertical-align: middle;\n",
              "    }\n",
              "\n",
              "    .dataframe tbody tr th {\n",
              "        vertical-align: top;\n",
              "    }\n",
              "\n",
              "    .dataframe thead th {\n",
              "        text-align: right;\n",
              "    }\n",
              "</style>\n",
              "<table border=\"1\" class=\"dataframe\">\n",
              "  <thead>\n",
              "    <tr style=\"text-align: right;\">\n",
              "      <th></th>\n",
              "      <th>Company_ID</th>\n",
              "      <th>Total_Revenue</th>\n",
              "      <th>Short_Term_Debt</th>\n",
              "      <th>Long_Term_Debt</th>\n",
              "      <th>Current_Assets</th>\n",
              "      <th>Current_Liabilities</th>\n",
              "      <th>Equity</th>\n",
              "      <th>Financial_Expenses</th>\n",
              "      <th>Current_Ratio</th>\n",
              "      <th>Debt_to_Equity_Ratio</th>\n",
              "      <th>Interest_Coverage_Ratio</th>\n",
              "      <th>Industry</th>\n",
              "      <th>Country</th>\n",
              "      <th>Company_Size</th>\n",
              "    </tr>\n",
              "  </thead>\n",
              "  <tbody>\n",
              "    <tr>\n",
              "      <th>0</th>\n",
              "      <td>C0001</td>\n",
              "      <td>3.347816e+10</td>\n",
              "      <td>5.495948e+08</td>\n",
              "      <td>2.278415e+09</td>\n",
              "      <td>6.538713e+09</td>\n",
              "      <td>1.331093e+08</td>\n",
              "      <td>2.293854e+10</td>\n",
              "      <td>3.864617e+08</td>\n",
              "      <td>49.12</td>\n",
              "      <td>0.12</td>\n",
              "      <td>86.63</td>\n",
              "      <td>Tecnología</td>\n",
              "      <td>Alemania</td>\n",
              "      <td>Mediana</td>\n",
              "    </tr>\n",
              "    <tr>\n",
              "      <th>1</th>\n",
              "      <td>C0002</td>\n",
              "      <td>2.477267e+10</td>\n",
              "      <td>1.320539e+09</td>\n",
              "      <td>1.651796e+09</td>\n",
              "      <td>1.939125e+10</td>\n",
              "      <td>8.864651e+08</td>\n",
              "      <td>2.949615e+10</td>\n",
              "      <td>1.652171e+08</td>\n",
              "      <td>21.87</td>\n",
              "      <td>0.10</td>\n",
              "      <td>149.94</td>\n",
              "      <td>Tecnología</td>\n",
              "      <td>México</td>\n",
              "      <td>Mediana</td>\n",
              "    </tr>\n",
              "    <tr>\n",
              "      <th>2</th>\n",
              "      <td>C0003</td>\n",
              "      <td>2.281084e+10</td>\n",
              "      <td>7.473215e+08</td>\n",
              "      <td>8.511983e+09</td>\n",
              "      <td>7.443570e+09</td>\n",
              "      <td>1.982664e+09</td>\n",
              "      <td>2.571465e+10</td>\n",
              "      <td>5.197711e+07</td>\n",
              "      <td>3.75</td>\n",
              "      <td>0.36</td>\n",
              "      <td>438.86</td>\n",
              "      <td>Retail</td>\n",
              "      <td>Alemania</td>\n",
              "      <td>Mediana</td>\n",
              "    </tr>\n",
              "    <tr>\n",
              "      <th>3</th>\n",
              "      <td>C0004</td>\n",
              "      <td>8.187718e+09</td>\n",
              "      <td>4.930008e+08</td>\n",
              "      <td>8.082415e+09</td>\n",
              "      <td>1.860758e+10</td>\n",
              "      <td>1.959019e+09</td>\n",
              "      <td>2.170094e+10</td>\n",
              "      <td>4.335059e+08</td>\n",
              "      <td>9.50</td>\n",
              "      <td>1271.00</td>\n",
              "      <td>18.89</td>\n",
              "      <td>Tecnología</td>\n",
              "      <td>Estados Unidos</td>\n",
              "      <td>Grande</td>\n",
              "    </tr>\n",
              "    <tr>\n",
              "      <th>4</th>\n",
              "      <td>C0005</td>\n",
              "      <td>1.484683e+10</td>\n",
              "      <td>1.943282e+09</td>\n",
              "      <td>2.758103e+09</td>\n",
              "      <td>4.151931e+09</td>\n",
              "      <td>1.651759e+09</td>\n",
              "      <td>8.839496e+09</td>\n",
              "      <td>1.665935e+07</td>\n",
              "      <td>2.51</td>\n",
              "      <td>0.53</td>\n",
              "      <td>891.20</td>\n",
              "      <td>Salud</td>\n",
              "      <td>Alemania</td>\n",
              "      <td>Mediana</td>\n",
              "    </tr>\n",
              "    <tr>\n",
              "      <th>5</th>\n",
              "      <td>C0006</td>\n",
              "      <td>1.099748e+10</td>\n",
              "      <td>6.621239e+08</td>\n",
              "      <td>2.764835e+09</td>\n",
              "      <td>9.869102e+09</td>\n",
              "      <td>8.481944e+08</td>\n",
              "      <td>3.731250e+09</td>\n",
              "      <td>2.802825e+08</td>\n",
              "      <td>11.64</td>\n",
              "      <td>0.92</td>\n",
              "      <td>39.24</td>\n",
              "      <td>Salud</td>\n",
              "      <td>México</td>\n",
              "      <td>Mediana</td>\n",
              "    </tr>\n",
              "    <tr>\n",
              "      <th>6</th>\n",
              "      <td>C0007</td>\n",
              "      <td>3.320348e+10</td>\n",
              "      <td>1.711320e+08</td>\n",
              "      <td>4.680667e+09</td>\n",
              "      <td>1.615755e+10</td>\n",
              "      <td>1.338509e+09</td>\n",
              "      <td>2.286229e+10</td>\n",
              "      <td>3.570077e+08</td>\n",
              "      <td>12.07</td>\n",
              "      <td>1271.00</td>\n",
              "      <td>93.00</td>\n",
              "      <td>Manufactura</td>\n",
              "      <td>Estados Unidos</td>\n",
              "      <td>Grande</td>\n",
              "    </tr>\n",
              "    <tr>\n",
              "      <th>7</th>\n",
              "      <td>C0008</td>\n",
              "      <td>3.575152e+10</td>\n",
              "      <td>8.353767e+08</td>\n",
              "      <td>8.056748e+07</td>\n",
              "      <td>1.645370e+10</td>\n",
              "      <td>1.314809e+09</td>\n",
              "      <td>6.804570e+09</td>\n",
              "      <td>1.923786e+07</td>\n",
              "      <td>12.51</td>\n",
              "      <td>0.13</td>\n",
              "      <td>1858.39</td>\n",
              "      <td>Manufactura</td>\n",
              "      <td>Estados Unidos</td>\n",
              "      <td>Grande</td>\n",
              "    </tr>\n",
              "    <tr>\n",
              "      <th>8</th>\n",
              "      <td>C0009</td>\n",
              "      <td>9.153223e+09</td>\n",
              "      <td>5.783346e+07</td>\n",
              "      <td>6.335196e+09</td>\n",
              "      <td>7.953471e+09</td>\n",
              "      <td>1.753550e+09</td>\n",
              "      <td>1.077667e+10</td>\n",
              "      <td>6.505931e+07</td>\n",
              "      <td>4.54</td>\n",
              "      <td>0.59</td>\n",
              "      <td>140.69</td>\n",
              "      <td>Finanzas</td>\n",
              "      <td>China</td>\n",
              "      <td>Grande</td>\n",
              "    </tr>\n",
              "    <tr>\n",
              "      <th>9</th>\n",
              "      <td>C0010</td>\n",
              "      <td>3.565230e+09</td>\n",
              "      <td>1.931868e+09</td>\n",
              "      <td>1.235623e+09</td>\n",
              "      <td>9.811878e+09</td>\n",
              "      <td>4.330429e+08</td>\n",
              "      <td>2.030916e+10</td>\n",
              "      <td>1.436897e+08</td>\n",
              "      <td>22.66</td>\n",
              "      <td>0.16</td>\n",
              "      <td>24.81</td>\n",
              "      <td>Retail</td>\n",
              "      <td>Alemania</td>\n",
              "      <td>Pequeña</td>\n",
              "    </tr>\n",
              "  </tbody>\n",
              "</table>\n",
              "</div>"
            ],
            "text/plain": [
              "  Company_ID  Total_Revenue  Short_Term_Debt  Long_Term_Debt  Current_Assets  \\\n",
              "0      C0001   3.347816e+10     5.495948e+08    2.278415e+09    6.538713e+09   \n",
              "1      C0002   2.477267e+10     1.320539e+09    1.651796e+09    1.939125e+10   \n",
              "2      C0003   2.281084e+10     7.473215e+08    8.511983e+09    7.443570e+09   \n",
              "3      C0004   8.187718e+09     4.930008e+08    8.082415e+09    1.860758e+10   \n",
              "4      C0005   1.484683e+10     1.943282e+09    2.758103e+09    4.151931e+09   \n",
              "5      C0006   1.099748e+10     6.621239e+08    2.764835e+09    9.869102e+09   \n",
              "6      C0007   3.320348e+10     1.711320e+08    4.680667e+09    1.615755e+10   \n",
              "7      C0008   3.575152e+10     8.353767e+08    8.056748e+07    1.645370e+10   \n",
              "8      C0009   9.153223e+09     5.783346e+07    6.335196e+09    7.953471e+09   \n",
              "9      C0010   3.565230e+09     1.931868e+09    1.235623e+09    9.811878e+09   \n",
              "\n",
              "   Current_Liabilities        Equity  Financial_Expenses  Current_Ratio  \\\n",
              "0         1.331093e+08  2.293854e+10        3.864617e+08          49.12   \n",
              "1         8.864651e+08  2.949615e+10        1.652171e+08          21.87   \n",
              "2         1.982664e+09  2.571465e+10        5.197711e+07           3.75   \n",
              "3         1.959019e+09  2.170094e+10        4.335059e+08           9.50   \n",
              "4         1.651759e+09  8.839496e+09        1.665935e+07           2.51   \n",
              "5         8.481944e+08  3.731250e+09        2.802825e+08          11.64   \n",
              "6         1.338509e+09  2.286229e+10        3.570077e+08          12.07   \n",
              "7         1.314809e+09  6.804570e+09        1.923786e+07          12.51   \n",
              "8         1.753550e+09  1.077667e+10        6.505931e+07           4.54   \n",
              "9         4.330429e+08  2.030916e+10        1.436897e+08          22.66   \n",
              "\n",
              "   Debt_to_Equity_Ratio  Interest_Coverage_Ratio     Industry         Country  \\\n",
              "0                  0.12                    86.63   Tecnología        Alemania   \n",
              "1                  0.10                   149.94   Tecnología          México   \n",
              "2                  0.36                   438.86       Retail        Alemania   \n",
              "3               1271.00                    18.89   Tecnología  Estados Unidos   \n",
              "4                  0.53                   891.20        Salud        Alemania   \n",
              "5                  0.92                    39.24        Salud          México   \n",
              "6               1271.00                    93.00  Manufactura  Estados Unidos   \n",
              "7                  0.13                  1858.39  Manufactura  Estados Unidos   \n",
              "8                  0.59                   140.69     Finanzas           China   \n",
              "9                  0.16                    24.81       Retail        Alemania   \n",
              "\n",
              "  Company_Size  \n",
              "0      Mediana  \n",
              "1      Mediana  \n",
              "2      Mediana  \n",
              "3       Grande  \n",
              "4      Mediana  \n",
              "5      Mediana  \n",
              "6       Grande  \n",
              "7       Grande  \n",
              "8       Grande  \n",
              "9      Pequeña  "
            ]
          },
          "execution_count": 4,
          "metadata": {},
          "output_type": "execute_result"
        }
      ],
      "source": [
        "df.head(10)"
      ]
    },
    {
      "cell_type": "code",
      "execution_count": 5,
      "metadata": {
        "colab": {
          "base_uri": "https://localhost:8080/",
          "height": 523
        },
        "id": "FD5uYEhGJRZD",
        "outputId": "9f0f69e4-faa4-4d13-fa28-af9540ea2f2b"
      },
      "outputs": [
        {
          "data": {
            "text/plain": [
              "Company_ID                  object\n",
              "Total_Revenue              float64\n",
              "Short_Term_Debt            float64\n",
              "Long_Term_Debt             float64\n",
              "Current_Assets             float64\n",
              "Current_Liabilities        float64\n",
              "Equity                     float64\n",
              "Financial_Expenses         float64\n",
              "Current_Ratio              float64\n",
              "Debt_to_Equity_Ratio       float64\n",
              "Interest_Coverage_Ratio    float64\n",
              "Industry                    object\n",
              "Country                     object\n",
              "Company_Size                object\n",
              "dtype: object"
            ]
          },
          "execution_count": 5,
          "metadata": {},
          "output_type": "execute_result"
        }
      ],
      "source": [
        "df.dtypes"
      ]
    },
    {
      "cell_type": "markdown",
      "metadata": {
        "id": "LWqlQ29EKAzp"
      },
      "source": [
        "## Datos nulos y valores unicos"
      ]
    },
    {
      "cell_type": "code",
      "execution_count": 6,
      "metadata": {
        "colab": {
          "base_uri": "https://localhost:8080/",
          "height": 523
        },
        "id": "J5CSAF4SKNnY",
        "outputId": "22bacf44-3e2b-4e73-a3d1-7b230afc4c93"
      },
      "outputs": [
        {
          "data": {
            "text/plain": [
              "Company_ID                 105\n",
              "Total_Revenue              102\n",
              "Short_Term_Debt            102\n",
              "Long_Term_Debt             105\n",
              "Current_Assets             105\n",
              "Current_Liabilities        105\n",
              "Equity                     105\n",
              "Financial_Expenses         101\n",
              "Current_Ratio              105\n",
              "Debt_to_Equity_Ratio       105\n",
              "Interest_Coverage_Ratio    105\n",
              "Industry                   105\n",
              "Country                    105\n",
              "Company_Size               105\n",
              "dtype: int64"
            ]
          },
          "execution_count": 6,
          "metadata": {},
          "output_type": "execute_result"
        }
      ],
      "source": [
        "df.count()"
      ]
    },
    {
      "cell_type": "code",
      "execution_count": 87,
      "metadata": {
        "colab": {
          "base_uri": "https://localhost:8080/",
          "height": 523
        },
        "id": "js3am_78LJso",
        "outputId": "6d0bcbca-ddbd-47a4-c300-cde4805ab6ee"
      },
      "outputs": [
        {
          "data": {
            "text/plain": [
              "Company_ID                 0\n",
              "Total_Revenue              0\n",
              "Short_Term_Debt            3\n",
              "Long_Term_Debt             0\n",
              "Current_Assets             0\n",
              "Current_Liabilities        0\n",
              "Equity                     0\n",
              "Financial_Expenses         4\n",
              "Current_Ratio              0\n",
              "Debt_to_Equity_Ratio       0\n",
              "Interest_Coverage_Ratio    0\n",
              "Industry                   0\n",
              "Country                    0\n",
              "Company_Size               0\n",
              "Calculated_CR              0\n",
              "Calculated_DER             3\n",
              "dtype: int64"
            ]
          },
          "execution_count": 87,
          "metadata": {},
          "output_type": "execute_result"
        }
      ],
      "source": [
        "df.isnull().sum()"
      ]
    },
    {
      "cell_type": "markdown",
      "metadata": {},
      "source": [
        "Elimino las empresas de las que no tienen Total_Revenue ya que es un dato fundamental y que no se puede inferir facilmente con el resto de la muestra"
      ]
    },
    {
      "cell_type": "code",
      "execution_count": 86,
      "metadata": {},
      "outputs": [],
      "source": [
        "df.dropna(subset=[\"Total_Revenue\"], inplace=True)"
      ]
    },
    {
      "cell_type": "markdown",
      "metadata": {},
      "source": [
        "Reviso los datos puntuales faltantes de Short_Term_Debt"
      ]
    },
    {
      "cell_type": "code",
      "execution_count": 113,
      "metadata": {},
      "outputs": [
        {
          "data": {
            "text/html": [
              "<div>\n",
              "<style scoped>\n",
              "    .dataframe tbody tr th:only-of-type {\n",
              "        vertical-align: middle;\n",
              "    }\n",
              "\n",
              "    .dataframe tbody tr th {\n",
              "        vertical-align: top;\n",
              "    }\n",
              "\n",
              "    .dataframe thead th {\n",
              "        text-align: right;\n",
              "    }\n",
              "</style>\n",
              "<table border=\"1\" class=\"dataframe\">\n",
              "  <thead>\n",
              "    <tr style=\"text-align: right;\">\n",
              "      <th></th>\n",
              "      <th>Company_ID</th>\n",
              "      <th>Total_Revenue</th>\n",
              "      <th>Short_Term_Debt</th>\n",
              "      <th>Long_Term_Debt</th>\n",
              "      <th>Current_Assets</th>\n",
              "      <th>Current_Liabilities</th>\n",
              "      <th>Equity</th>\n",
              "      <th>Financial_Expenses</th>\n",
              "      <th>Current_Ratio</th>\n",
              "      <th>Debt_to_Equity_Ratio</th>\n",
              "      <th>Interest_Coverage_Ratio</th>\n",
              "      <th>Industry</th>\n",
              "      <th>Country</th>\n",
              "      <th>Company_Size</th>\n",
              "      <th>Calculated_CR</th>\n",
              "      <th>Calculated_DER</th>\n",
              "      <th>FR_TR_Ratio</th>\n",
              "      <th>STD_LTD_Ratio</th>\n",
              "      <th>AVG_FR_TR_Ratio</th>\n",
              "      <th>AVG_STD_LTD_Ratio</th>\n",
              "    </tr>\n",
              "  </thead>\n",
              "  <tbody>\n",
              "  </tbody>\n",
              "</table>\n",
              "</div>"
            ],
            "text/plain": [
              "Empty DataFrame\n",
              "Columns: [Company_ID, Total_Revenue, Short_Term_Debt, Long_Term_Debt, Current_Assets, Current_Liabilities, Equity, Financial_Expenses, Current_Ratio, Debt_to_Equity_Ratio, Interest_Coverage_Ratio, Industry, Country, Company_Size, Calculated_CR, Calculated_DER, FR_TR_Ratio, STD_LTD_Ratio, AVG_FR_TR_Ratio, AVG_STD_LTD_Ratio]\n",
              "Index: []"
            ]
          },
          "execution_count": 113,
          "metadata": {},
          "output_type": "execute_result"
        }
      ],
      "source": [
        "df[df[\"Short_Term_Debt\"].isnull()]"
      ]
    },
    {
      "cell_type": "markdown",
      "metadata": {},
      "source": [
        "Reviso los datos puntuales faltantes de Financial_Expenses"
      ]
    },
    {
      "cell_type": "code",
      "execution_count": 99,
      "metadata": {},
      "outputs": [
        {
          "data": {
            "text/html": [
              "<div>\n",
              "<style scoped>\n",
              "    .dataframe tbody tr th:only-of-type {\n",
              "        vertical-align: middle;\n",
              "    }\n",
              "\n",
              "    .dataframe tbody tr th {\n",
              "        vertical-align: top;\n",
              "    }\n",
              "\n",
              "    .dataframe thead th {\n",
              "        text-align: right;\n",
              "    }\n",
              "</style>\n",
              "<table border=\"1\" class=\"dataframe\">\n",
              "  <thead>\n",
              "    <tr style=\"text-align: right;\">\n",
              "      <th></th>\n",
              "      <th>Company_ID</th>\n",
              "      <th>Total_Revenue</th>\n",
              "      <th>Short_Term_Debt</th>\n",
              "      <th>Long_Term_Debt</th>\n",
              "      <th>Current_Assets</th>\n",
              "      <th>Current_Liabilities</th>\n",
              "      <th>Equity</th>\n",
              "      <th>Financial_Expenses</th>\n",
              "      <th>Current_Ratio</th>\n",
              "      <th>Debt_to_Equity_Ratio</th>\n",
              "      <th>Interest_Coverage_Ratio</th>\n",
              "      <th>Industry</th>\n",
              "      <th>Country</th>\n",
              "      <th>Company_Size</th>\n",
              "      <th>Calculated_CR</th>\n",
              "      <th>Calculated_DER</th>\n",
              "    </tr>\n",
              "  </thead>\n",
              "  <tbody>\n",
              "    <tr>\n",
              "      <th>27</th>\n",
              "      <td>C0028</td>\n",
              "      <td>1.585813e+10</td>\n",
              "      <td>1.272831e+09</td>\n",
              "      <td>7.443309e+08</td>\n",
              "      <td>6.963779e+09</td>\n",
              "      <td>1.672859e+09</td>\n",
              "      <td>8.543938e+09</td>\n",
              "      <td>NaN</td>\n",
              "      <td>4.16</td>\n",
              "      <td>0.24</td>\n",
              "      <td>43.92</td>\n",
              "      <td>Manufactura</td>\n",
              "      <td>Estados Unidos</td>\n",
              "      <td>Mediana</td>\n",
              "      <td>4.16</td>\n",
              "      <td>0.24</td>\n",
              "    </tr>\n",
              "    <tr>\n",
              "      <th>43</th>\n",
              "      <td>C0044</td>\n",
              "      <td>2.520887e+10</td>\n",
              "      <td>8.916349e+08</td>\n",
              "      <td>7.795491e+09</td>\n",
              "      <td>8.944172e+08</td>\n",
              "      <td>1.009443e+09</td>\n",
              "      <td>1.845747e+10</td>\n",
              "      <td>NaN</td>\n",
              "      <td>0.89</td>\n",
              "      <td>0.47</td>\n",
              "      <td>68.62</td>\n",
              "      <td>Manufactura</td>\n",
              "      <td>China</td>\n",
              "      <td>Grande</td>\n",
              "      <td>0.89</td>\n",
              "      <td>0.47</td>\n",
              "    </tr>\n",
              "    <tr>\n",
              "      <th>49</th>\n",
              "      <td>C0050</td>\n",
              "      <td>1.899804e+10</td>\n",
              "      <td>1.349049e+08</td>\n",
              "      <td>2.231417e+09</td>\n",
              "      <td>1.655181e+10</td>\n",
              "      <td>9.822027e+08</td>\n",
              "      <td>2.163346e+10</td>\n",
              "      <td>NaN</td>\n",
              "      <td>16.85</td>\n",
              "      <td>0.11</td>\n",
              "      <td>45.84</td>\n",
              "      <td>Finanzas</td>\n",
              "      <td>Alemania</td>\n",
              "      <td>Pequeña</td>\n",
              "      <td>16.85</td>\n",
              "      <td>0.11</td>\n",
              "    </tr>\n",
              "    <tr>\n",
              "      <th>96</th>\n",
              "      <td>C0097</td>\n",
              "      <td>5.063227e+09</td>\n",
              "      <td>8.778292e+08</td>\n",
              "      <td>7.686434e+09</td>\n",
              "      <td>7.755746e+07</td>\n",
              "      <td>1.930525e+09</td>\n",
              "      <td>9.846594e+09</td>\n",
              "      <td>NaN</td>\n",
              "      <td>0.04</td>\n",
              "      <td>0.87</td>\n",
              "      <td>17.03</td>\n",
              "      <td>Manufactura</td>\n",
              "      <td>Estados Unidos</td>\n",
              "      <td>Grande</td>\n",
              "      <td>0.04</td>\n",
              "      <td>0.87</td>\n",
              "    </tr>\n",
              "  </tbody>\n",
              "</table>\n",
              "</div>"
            ],
            "text/plain": [
              "   Company_ID  Total_Revenue  Short_Term_Debt  Long_Term_Debt  Current_Assets  \\\n",
              "27      C0028   1.585813e+10     1.272831e+09    7.443309e+08    6.963779e+09   \n",
              "43      C0044   2.520887e+10     8.916349e+08    7.795491e+09    8.944172e+08   \n",
              "49      C0050   1.899804e+10     1.349049e+08    2.231417e+09    1.655181e+10   \n",
              "96      C0097   5.063227e+09     8.778292e+08    7.686434e+09    7.755746e+07   \n",
              "\n",
              "    Current_Liabilities        Equity  Financial_Expenses  Current_Ratio  \\\n",
              "27         1.672859e+09  8.543938e+09                 NaN           4.16   \n",
              "43         1.009443e+09  1.845747e+10                 NaN           0.89   \n",
              "49         9.822027e+08  2.163346e+10                 NaN          16.85   \n",
              "96         1.930525e+09  9.846594e+09                 NaN           0.04   \n",
              "\n",
              "    Debt_to_Equity_Ratio  Interest_Coverage_Ratio     Industry  \\\n",
              "27                  0.24                    43.92  Manufactura   \n",
              "43                  0.47                    68.62  Manufactura   \n",
              "49                  0.11                    45.84     Finanzas   \n",
              "96                  0.87                    17.03  Manufactura   \n",
              "\n",
              "           Country Company_Size  Calculated_CR  Calculated_DER  \n",
              "27  Estados Unidos      Mediana           4.16            0.24  \n",
              "43           China       Grande           0.89            0.47  \n",
              "49        Alemania      Pequeña          16.85            0.11  \n",
              "96  Estados Unidos       Grande           0.04            0.87  "
            ]
          },
          "execution_count": 99,
          "metadata": {},
          "output_type": "execute_result"
        }
      ],
      "source": [
        "df[df[\"Financial_Expenses\"].isnull()]"
      ]
    },
    {
      "cell_type": "markdown",
      "metadata": {},
      "source": [
        "Valido si que informacion hay disponible por Country e Industry y Company_Size"
      ]
    },
    {
      "cell_type": "code",
      "execution_count": 98,
      "metadata": {},
      "outputs": [
        {
          "data": {
            "text/html": [
              "<div>\n",
              "<style scoped>\n",
              "    .dataframe tbody tr th:only-of-type {\n",
              "        vertical-align: middle;\n",
              "    }\n",
              "\n",
              "    .dataframe tbody tr th {\n",
              "        vertical-align: top;\n",
              "    }\n",
              "\n",
              "    .dataframe thead th {\n",
              "        text-align: right;\n",
              "    }\n",
              "</style>\n",
              "<table border=\"1\" class=\"dataframe\">\n",
              "  <thead>\n",
              "    <tr style=\"text-align: right;\">\n",
              "      <th></th>\n",
              "      <th></th>\n",
              "      <th></th>\n",
              "      <th>Company_ID</th>\n",
              "    </tr>\n",
              "    <tr>\n",
              "      <th>Country</th>\n",
              "      <th>Industry</th>\n",
              "      <th>Company_Size</th>\n",
              "      <th></th>\n",
              "    </tr>\n",
              "  </thead>\n",
              "  <tbody>\n",
              "    <tr>\n",
              "      <th rowspan=\"10\" valign=\"top\">Alemania</th>\n",
              "      <th rowspan=\"3\" valign=\"top\">Finanzas</th>\n",
              "      <th>Grande</th>\n",
              "      <td>1</td>\n",
              "    </tr>\n",
              "    <tr>\n",
              "      <th>Mediana</th>\n",
              "      <td>2</td>\n",
              "    </tr>\n",
              "    <tr>\n",
              "      <th>Pequeña</th>\n",
              "      <td>3</td>\n",
              "    </tr>\n",
              "    <tr>\n",
              "      <th>Manufactura</th>\n",
              "      <th>Pequeña</th>\n",
              "      <td>1</td>\n",
              "    </tr>\n",
              "    <tr>\n",
              "      <th rowspan=\"3\" valign=\"top\">Retail</th>\n",
              "      <th>Grande</th>\n",
              "      <td>2</td>\n",
              "    </tr>\n",
              "    <tr>\n",
              "      <th>Mediana</th>\n",
              "      <td>1</td>\n",
              "    </tr>\n",
              "    <tr>\n",
              "      <th>Pequeña</th>\n",
              "      <td>5</td>\n",
              "    </tr>\n",
              "    <tr>\n",
              "      <th>Salud</th>\n",
              "      <th>Mediana</th>\n",
              "      <td>1</td>\n",
              "    </tr>\n",
              "    <tr>\n",
              "      <th rowspan=\"2\" valign=\"top\">Tecnología</th>\n",
              "      <th>Grande</th>\n",
              "      <td>1</td>\n",
              "    </tr>\n",
              "    <tr>\n",
              "      <th>Mediana</th>\n",
              "      <td>3</td>\n",
              "    </tr>\n",
              "    <tr>\n",
              "      <th rowspan=\"12\" valign=\"top\">China</th>\n",
              "      <th rowspan=\"3\" valign=\"top\">Finanzas</th>\n",
              "      <th>Grande</th>\n",
              "      <td>2</td>\n",
              "    </tr>\n",
              "    <tr>\n",
              "      <th>Mediana</th>\n",
              "      <td>3</td>\n",
              "    </tr>\n",
              "    <tr>\n",
              "      <th>Pequeña</th>\n",
              "      <td>2</td>\n",
              "    </tr>\n",
              "    <tr>\n",
              "      <th rowspan=\"3\" valign=\"top\">Manufactura</th>\n",
              "      <th>Grande</th>\n",
              "      <td>5</td>\n",
              "    </tr>\n",
              "    <tr>\n",
              "      <th>Mediana</th>\n",
              "      <td>1</td>\n",
              "    </tr>\n",
              "    <tr>\n",
              "      <th>Pequeña</th>\n",
              "      <td>2</td>\n",
              "    </tr>\n",
              "    <tr>\n",
              "      <th>Retail</th>\n",
              "      <th>Mediana</th>\n",
              "      <td>2</td>\n",
              "    </tr>\n",
              "    <tr>\n",
              "      <th rowspan=\"3\" valign=\"top\">Salud</th>\n",
              "      <th>Grande</th>\n",
              "      <td>1</td>\n",
              "    </tr>\n",
              "    <tr>\n",
              "      <th>Mediana</th>\n",
              "      <td>2</td>\n",
              "    </tr>\n",
              "    <tr>\n",
              "      <th>Pequeña</th>\n",
              "      <td>1</td>\n",
              "    </tr>\n",
              "    <tr>\n",
              "      <th rowspan=\"2\" valign=\"top\">Tecnología</th>\n",
              "      <th>Grande</th>\n",
              "      <td>3</td>\n",
              "    </tr>\n",
              "    <tr>\n",
              "      <th>Pequeña</th>\n",
              "      <td>3</td>\n",
              "    </tr>\n",
              "    <tr>\n",
              "      <th rowspan=\"8\" valign=\"top\">Estados Unidos</th>\n",
              "      <th rowspan=\"2\" valign=\"top\">Finanzas</th>\n",
              "      <th>Grande</th>\n",
              "      <td>3</td>\n",
              "    </tr>\n",
              "    <tr>\n",
              "      <th>Pequeña</th>\n",
              "      <td>3</td>\n",
              "    </tr>\n",
              "    <tr>\n",
              "      <th rowspan=\"3\" valign=\"top\">Manufactura</th>\n",
              "      <th>Grande</th>\n",
              "      <td>5</td>\n",
              "    </tr>\n",
              "    <tr>\n",
              "      <th>Mediana</th>\n",
              "      <td>2</td>\n",
              "    </tr>\n",
              "    <tr>\n",
              "      <th>Pequeña</th>\n",
              "      <td>1</td>\n",
              "    </tr>\n",
              "    <tr>\n",
              "      <th rowspan=\"2\" valign=\"top\">Salud</th>\n",
              "      <th>Grande</th>\n",
              "      <td>1</td>\n",
              "    </tr>\n",
              "    <tr>\n",
              "      <th>Mediana</th>\n",
              "      <td>1</td>\n",
              "    </tr>\n",
              "    <tr>\n",
              "      <th>Tecnología</th>\n",
              "      <th>Grande</th>\n",
              "      <td>1</td>\n",
              "    </tr>\n",
              "    <tr>\n",
              "      <th rowspan=\"9\" valign=\"top\">India</th>\n",
              "      <th>Finanzas</th>\n",
              "      <th>Mediana</th>\n",
              "      <td>1</td>\n",
              "    </tr>\n",
              "    <tr>\n",
              "      <th rowspan=\"2\" valign=\"top\">Manufactura</th>\n",
              "      <th>Mediana</th>\n",
              "      <td>1</td>\n",
              "    </tr>\n",
              "    <tr>\n",
              "      <th>Pequeña</th>\n",
              "      <td>3</td>\n",
              "    </tr>\n",
              "    <tr>\n",
              "      <th>Retail</th>\n",
              "      <th>Pequeña</th>\n",
              "      <td>2</td>\n",
              "    </tr>\n",
              "    <tr>\n",
              "      <th rowspan=\"2\" valign=\"top\">Salud</th>\n",
              "      <th>Grande</th>\n",
              "      <td>1</td>\n",
              "    </tr>\n",
              "    <tr>\n",
              "      <th>Pequeña</th>\n",
              "      <td>1</td>\n",
              "    </tr>\n",
              "    <tr>\n",
              "      <th rowspan=\"3\" valign=\"top\">Tecnología</th>\n",
              "      <th>Grande</th>\n",
              "      <td>3</td>\n",
              "    </tr>\n",
              "    <tr>\n",
              "      <th>Mediana</th>\n",
              "      <td>2</td>\n",
              "    </tr>\n",
              "    <tr>\n",
              "      <th>Pequeña</th>\n",
              "      <td>1</td>\n",
              "    </tr>\n",
              "    <tr>\n",
              "      <th rowspan=\"12\" valign=\"top\">México</th>\n",
              "      <th rowspan=\"2\" valign=\"top\">Finanzas</th>\n",
              "      <th>Grande</th>\n",
              "      <td>1</td>\n",
              "    </tr>\n",
              "    <tr>\n",
              "      <th>Mediana</th>\n",
              "      <td>1</td>\n",
              "    </tr>\n",
              "    <tr>\n",
              "      <th rowspan=\"3\" valign=\"top\">Manufactura</th>\n",
              "      <th>Grande</th>\n",
              "      <td>1</td>\n",
              "    </tr>\n",
              "    <tr>\n",
              "      <th>Mediana</th>\n",
              "      <td>1</td>\n",
              "    </tr>\n",
              "    <tr>\n",
              "      <th>Pequeña</th>\n",
              "      <td>1</td>\n",
              "    </tr>\n",
              "    <tr>\n",
              "      <th rowspan=\"2\" valign=\"top\">Retail</th>\n",
              "      <th>Grande</th>\n",
              "      <td>2</td>\n",
              "    </tr>\n",
              "    <tr>\n",
              "      <th>Mediana</th>\n",
              "      <td>2</td>\n",
              "    </tr>\n",
              "    <tr>\n",
              "      <th rowspan=\"2\" valign=\"top\">Salud</th>\n",
              "      <th>Grande</th>\n",
              "      <td>3</td>\n",
              "    </tr>\n",
              "    <tr>\n",
              "      <th>Mediana</th>\n",
              "      <td>2</td>\n",
              "    </tr>\n",
              "    <tr>\n",
              "      <th rowspan=\"3\" valign=\"top\">Tecnología</th>\n",
              "      <th>Grande</th>\n",
              "      <td>3</td>\n",
              "    </tr>\n",
              "    <tr>\n",
              "      <th>Mediana</th>\n",
              "      <td>1</td>\n",
              "    </tr>\n",
              "    <tr>\n",
              "      <th>Pequeña</th>\n",
              "      <td>1</td>\n",
              "    </tr>\n",
              "  </tbody>\n",
              "</table>\n",
              "</div>"
            ],
            "text/plain": [
              "                                         Company_ID\n",
              "Country        Industry    Company_Size            \n",
              "Alemania       Finanzas    Grande                 1\n",
              "                           Mediana                2\n",
              "                           Pequeña                3\n",
              "               Manufactura Pequeña                1\n",
              "               Retail      Grande                 2\n",
              "                           Mediana                1\n",
              "                           Pequeña                5\n",
              "               Salud       Mediana                1\n",
              "               Tecnología  Grande                 1\n",
              "                           Mediana                3\n",
              "China          Finanzas    Grande                 2\n",
              "                           Mediana                3\n",
              "                           Pequeña                2\n",
              "               Manufactura Grande                 5\n",
              "                           Mediana                1\n",
              "                           Pequeña                2\n",
              "               Retail      Mediana                2\n",
              "               Salud       Grande                 1\n",
              "                           Mediana                2\n",
              "                           Pequeña                1\n",
              "               Tecnología  Grande                 3\n",
              "                           Pequeña                3\n",
              "Estados Unidos Finanzas    Grande                 3\n",
              "                           Pequeña                3\n",
              "               Manufactura Grande                 5\n",
              "                           Mediana                2\n",
              "                           Pequeña                1\n",
              "               Salud       Grande                 1\n",
              "                           Mediana                1\n",
              "               Tecnología  Grande                 1\n",
              "India          Finanzas    Mediana                1\n",
              "               Manufactura Mediana                1\n",
              "                           Pequeña                3\n",
              "               Retail      Pequeña                2\n",
              "               Salud       Grande                 1\n",
              "                           Pequeña                1\n",
              "               Tecnología  Grande                 3\n",
              "                           Mediana                2\n",
              "                           Pequeña                1\n",
              "México         Finanzas    Grande                 1\n",
              "                           Mediana                1\n",
              "               Manufactura Grande                 1\n",
              "                           Mediana                1\n",
              "                           Pequeña                1\n",
              "               Retail      Grande                 2\n",
              "                           Mediana                2\n",
              "               Salud       Grande                 3\n",
              "                           Mediana                2\n",
              "               Tecnología  Grande                 3\n",
              "                           Mediana                1\n",
              "                           Pequeña                1"
            ]
          },
          "execution_count": 98,
          "metadata": {},
          "output_type": "execute_result"
        }
      ],
      "source": [
        "df[[\"Company_ID\",\"Country\",\"Industry\",\"Company_Size\"]].groupby([\"Country\",\"Industry\",\"Company_Size\"]).count()"
      ]
    },
    {
      "cell_type": "markdown",
      "metadata": {},
      "source": [
        "Las muestras son pequeñas calcularemos medias por Industry y Pais"
      ]
    },
    {
      "cell_type": "markdown",
      "metadata": {},
      "source": [
        "Agrego un par de columnas para guardar la relacion entre Financial_Expenses en relacion a Total_Revenue y Short_Term_Debt en relacion a Long_Term_Debt"
      ]
    },
    {
      "cell_type": "code",
      "execution_count": 100,
      "metadata": {},
      "outputs": [],
      "source": [
        "df[\"FR_TR_Ratio\"] = df[\"Financial_Expenses\"] / df[\"Total_Revenue\"]\n",
        "df[\"STD_LTD_Ratio\"] = df[\"Short_Term_Debt\"] / df[\"Long_Term_Debt\"]\n"
      ]
    },
    {
      "cell_type": "markdown",
      "metadata": {},
      "source": [
        "Calculamos el promedio de FR_TR_Ratio por pais e Industry"
      ]
    },
    {
      "cell_type": "code",
      "execution_count": 105,
      "metadata": {},
      "outputs": [],
      "source": [
        "\n",
        "df[\"AVG_FR_TR_Ratio\"] = df.groupby([\"Country\",\"Industry\"])[\"FR_TR_Ratio\"].transform(lambda x: x.mean())"
      ]
    },
    {
      "cell_type": "markdown",
      "metadata": {},
      "source": [
        "Calculamos la media de STD_LTD_Ratio "
      ]
    },
    {
      "cell_type": "code",
      "execution_count": 107,
      "metadata": {},
      "outputs": [],
      "source": [
        "df[\"AVG_STD_LTD_Ratio\"] = df.groupby([\"Country\",\"Industry\"])[\"STD_LTD_Ratio\"].transform(lambda x: x.median())"
      ]
    },
    {
      "cell_type": "markdown",
      "metadata": {},
      "source": [
        "Con los factores calculados relleno los huecos en Short_Term_Debt"
      ]
    },
    {
      "cell_type": "code",
      "execution_count": 110,
      "metadata": {},
      "outputs": [],
      "source": [
        "df[\"Short_Term_Debt\"].fillna(df[\"Long_Term_Debt\"]*df[\"AVG_STD_LTD_Ratio\"], inplace=True)"
      ]
    },
    {
      "cell_type": "markdown",
      "metadata": {},
      "source": [
        "Con los factores calculados relleno los huecos en Financial_Expenses"
      ]
    },
    {
      "cell_type": "code",
      "execution_count": null,
      "metadata": {},
      "outputs": [],
      "source": [
        "df[\"Financial_Expenses\"].fillna(df[\"Total_Revenue\"]*df[\"AVG_FR_TR_Ratio\"], inplace=True)\n"
      ]
    },
    {
      "cell_type": "markdown",
      "metadata": {},
      "source": [
        "Valido"
      ]
    },
    {
      "cell_type": "code",
      "execution_count": 115,
      "metadata": {},
      "outputs": [
        {
          "data": {
            "text/plain": [
              "Company_ID                 0\n",
              "Total_Revenue              0\n",
              "Short_Term_Debt            0\n",
              "Long_Term_Debt             0\n",
              "Current_Assets             0\n",
              "Current_Liabilities        0\n",
              "Equity                     0\n",
              "Financial_Expenses         0\n",
              "Current_Ratio              0\n",
              "Debt_to_Equity_Ratio       0\n",
              "Interest_Coverage_Ratio    0\n",
              "Industry                   0\n",
              "Country                    0\n",
              "Company_Size               0\n",
              "Calculated_CR              0\n",
              "Calculated_DER             3\n",
              "FR_TR_Ratio                4\n",
              "STD_LTD_Ratio              3\n",
              "AVG_FR_TR_Ratio            0\n",
              "AVG_STD_LTD_Ratio          0\n",
              "dtype: int64"
            ]
          },
          "execution_count": 115,
          "metadata": {},
          "output_type": "execute_result"
        }
      ],
      "source": [
        "df.isnull().sum()"
      ]
    },
    {
      "cell_type": "markdown",
      "metadata": {},
      "source": [
        "Reviso los valores de los campos tipo objeto"
      ]
    },
    {
      "cell_type": "code",
      "execution_count": 8,
      "metadata": {
        "colab": {
          "base_uri": "https://localhost:8080/"
        },
        "id": "WfamV1K2NzFt",
        "outputId": "fe07a927-b296-4686-a7d2-cb50dc294792"
      },
      "outputs": [
        {
          "data": {
            "text/plain": [
              "array(['C0001', 'C0002', 'C0003', 'C0004', 'C0005', 'C0006', 'C0007',\n",
              "       'C0008', 'C0009', 'C0010', 'C0011', 'C0012', 'C0013', 'C0014',\n",
              "       'C0015', 'C0016', 'C0017', 'C0018', 'C0019', 'C0020', 'C0021',\n",
              "       'C0022', 'C0023', 'C0024', 'C0025', 'C0026', 'C0027', 'C0028',\n",
              "       'C0029', 'C0030', 'C0031', 'C0032', 'C0033', 'C0034', 'C0035',\n",
              "       'C0036', 'C0037', 'C0038', 'C0039', 'C0040', 'C0041', 'C0042',\n",
              "       'C0043', 'C0044', 'C0045', 'C0046', 'C0047', 'C0048', 'C0049',\n",
              "       'C0050', 'C0051', 'C0052', 'C0053', 'C0054', 'C0055', 'C0056',\n",
              "       'C0057', 'C0058', 'C0059', 'C0060', 'C0061', 'C0062', 'C0063',\n",
              "       'C0064', 'C0065', 'C0066', 'C0067', 'C0068', 'C0069', 'C0070',\n",
              "       'C0071', 'C0072', 'C0073', 'C0074', 'C0075', 'C0076', 'C0077',\n",
              "       'C0078', 'C0079', 'C0080', 'C0081', 'C0082', 'C0083', 'C0084',\n",
              "       'C0085', 'C0086', 'C0087', 'C0088', 'C0089', 'C0090', 'C0091',\n",
              "       'C0092', 'C0093', 'C0094', 'C0095', 'C0096', 'C0097', 'C0098',\n",
              "       'C0099', 'C0100'], dtype=object)"
            ]
          },
          "execution_count": 8,
          "metadata": {},
          "output_type": "execute_result"
        }
      ],
      "source": [
        "df[\"Company_ID\"].unique()"
      ]
    },
    {
      "cell_type": "code",
      "execution_count": 9,
      "metadata": {
        "colab": {
          "base_uri": "https://localhost:8080/"
        },
        "id": "d2qbk-HZN6aF",
        "outputId": "5c870346-c750-46de-9184-a15ef974789b"
      },
      "outputs": [
        {
          "data": {
            "text/plain": [
              "array(['Mediana', 'Grande', 'Pequeña'], dtype=object)"
            ]
          },
          "execution_count": 9,
          "metadata": {},
          "output_type": "execute_result"
        }
      ],
      "source": [
        "df[\"Company_Size\"].unique()"
      ]
    },
    {
      "cell_type": "code",
      "execution_count": 10,
      "metadata": {
        "colab": {
          "base_uri": "https://localhost:8080/"
        },
        "id": "LRzmmMv89GLJ",
        "outputId": "34639bca-e11a-45b7-cfe1-29ce5801aa63"
      },
      "outputs": [
        {
          "data": {
            "text/plain": [
              "array(['Alemania', 'México', 'Estados Unidos', 'China', 'India'],\n",
              "      dtype=object)"
            ]
          },
          "execution_count": 10,
          "metadata": {},
          "output_type": "execute_result"
        }
      ],
      "source": [
        "df[\"Country\"].unique()"
      ]
    },
    {
      "cell_type": "code",
      "execution_count": 11,
      "metadata": {
        "colab": {
          "base_uri": "https://localhost:8080/"
        },
        "id": "uYbrWO9F9Td2",
        "outputId": "bff08ce1-9504-471a-cf83-4de684416103"
      },
      "outputs": [
        {
          "data": {
            "text/plain": [
              "array(['Tecnología', 'Retail', 'Salud', 'Manufactura', 'Finanzas'],\n",
              "      dtype=object)"
            ]
          },
          "execution_count": 11,
          "metadata": {},
          "output_type": "execute_result"
        }
      ],
      "source": [
        "df[\"Industry\"].unique()"
      ]
    },
    {
      "cell_type": "markdown",
      "metadata": {},
      "source": [
        "Identifico valores duplicados"
      ]
    },
    {
      "cell_type": "code",
      "execution_count": 67,
      "metadata": {},
      "outputs": [
        {
          "data": {
            "text/html": [
              "<div>\n",
              "<style scoped>\n",
              "    .dataframe tbody tr th:only-of-type {\n",
              "        vertical-align: middle;\n",
              "    }\n",
              "\n",
              "    .dataframe tbody tr th {\n",
              "        vertical-align: top;\n",
              "    }\n",
              "\n",
              "    .dataframe thead th {\n",
              "        text-align: right;\n",
              "    }\n",
              "</style>\n",
              "<table border=\"1\" class=\"dataframe\">\n",
              "  <thead>\n",
              "    <tr style=\"text-align: right;\">\n",
              "      <th></th>\n",
              "      <th>Company_ID</th>\n",
              "      <th>Total_Revenue</th>\n",
              "      <th>Short_Term_Debt</th>\n",
              "      <th>Long_Term_Debt</th>\n",
              "      <th>Current_Assets</th>\n",
              "      <th>Current_Liabilities</th>\n",
              "      <th>Equity</th>\n",
              "      <th>Financial_Expenses</th>\n",
              "      <th>Current_Ratio</th>\n",
              "      <th>Debt_to_Equity_Ratio</th>\n",
              "      <th>Interest_Coverage_Ratio</th>\n",
              "      <th>Industry</th>\n",
              "      <th>Country</th>\n",
              "      <th>Company_Size</th>\n",
              "    </tr>\n",
              "  </thead>\n",
              "  <tbody>\n",
              "    <tr>\n",
              "      <th>101</th>\n",
              "      <td>C0036</td>\n",
              "      <td>1.923468e+10</td>\n",
              "      <td>1.830762e+09</td>\n",
              "      <td>9.901867e+09</td>\n",
              "      <td>1.282829e+10</td>\n",
              "      <td>1.837340e+09</td>\n",
              "      <td>3.841258e+09</td>\n",
              "      <td>7.582360e+07</td>\n",
              "      <td>6.98</td>\n",
              "      <td>3.05</td>\n",
              "      <td>253.68</td>\n",
              "      <td>Manufactura</td>\n",
              "      <td>China</td>\n",
              "      <td>Grande</td>\n",
              "    </tr>\n",
              "    <tr>\n",
              "      <th>102</th>\n",
              "      <td>C0006</td>\n",
              "      <td>1.099748e+10</td>\n",
              "      <td>6.621239e+08</td>\n",
              "      <td>2.764835e+09</td>\n",
              "      <td>9.869102e+09</td>\n",
              "      <td>8.481944e+08</td>\n",
              "      <td>3.731250e+09</td>\n",
              "      <td>2.802825e+08</td>\n",
              "      <td>11.64</td>\n",
              "      <td>0.92</td>\n",
              "      <td>39.24</td>\n",
              "      <td>Salud</td>\n",
              "      <td>México</td>\n",
              "      <td>Mediana</td>\n",
              "    </tr>\n",
              "    <tr>\n",
              "      <th>103</th>\n",
              "      <td>C0022</td>\n",
              "      <td>6.793892e+09</td>\n",
              "      <td>8.491369e+08</td>\n",
              "      <td>7.138475e+09</td>\n",
              "      <td>1.164564e+09</td>\n",
              "      <td>7.802656e+08</td>\n",
              "      <td>1.634661e+10</td>\n",
              "      <td>1.436530e+08</td>\n",
              "      <td>1.49</td>\n",
              "      <td>0.49</td>\n",
              "      <td>47.29</td>\n",
              "      <td>Finanzas</td>\n",
              "      <td>Alemania</td>\n",
              "      <td>Pequeña</td>\n",
              "    </tr>\n",
              "    <tr>\n",
              "      <th>104</th>\n",
              "      <td>C0024</td>\n",
              "      <td>3.360170e+10</td>\n",
              "      <td>2.483761e+08</td>\n",
              "      <td>6.171294e+09</td>\n",
              "      <td>1.961213e+10</td>\n",
              "      <td>1.088339e+09</td>\n",
              "      <td>1.185662e+10</td>\n",
              "      <td>3.580051e+08</td>\n",
              "      <td>18.02</td>\n",
              "      <td>0.54</td>\n",
              "      <td>93.86</td>\n",
              "      <td>Manufactura</td>\n",
              "      <td>China</td>\n",
              "      <td>Pequeña</td>\n",
              "    </tr>\n",
              "  </tbody>\n",
              "</table>\n",
              "</div>"
            ],
            "text/plain": [
              "    Company_ID  Total_Revenue  Short_Term_Debt  Long_Term_Debt  \\\n",
              "101      C0036   1.923468e+10     1.830762e+09    9.901867e+09   \n",
              "102      C0006   1.099748e+10     6.621239e+08    2.764835e+09   \n",
              "103      C0022   6.793892e+09     8.491369e+08    7.138475e+09   \n",
              "104      C0024   3.360170e+10     2.483761e+08    6.171294e+09   \n",
              "\n",
              "     Current_Assets  Current_Liabilities        Equity  Financial_Expenses  \\\n",
              "101    1.282829e+10         1.837340e+09  3.841258e+09        7.582360e+07   \n",
              "102    9.869102e+09         8.481944e+08  3.731250e+09        2.802825e+08   \n",
              "103    1.164564e+09         7.802656e+08  1.634661e+10        1.436530e+08   \n",
              "104    1.961213e+10         1.088339e+09  1.185662e+10        3.580051e+08   \n",
              "\n",
              "     Current_Ratio  Debt_to_Equity_Ratio  Interest_Coverage_Ratio  \\\n",
              "101           6.98                  3.05                   253.68   \n",
              "102          11.64                  0.92                    39.24   \n",
              "103           1.49                  0.49                    47.29   \n",
              "104          18.02                  0.54                    93.86   \n",
              "\n",
              "        Industry   Country Company_Size  \n",
              "101  Manufactura     China       Grande  \n",
              "102        Salud    México      Mediana  \n",
              "103     Finanzas  Alemania      Pequeña  \n",
              "104  Manufactura     China      Pequeña  "
            ]
          },
          "execution_count": 67,
          "metadata": {},
          "output_type": "execute_result"
        }
      ],
      "source": [
        "df[df.duplicated()]"
      ]
    },
    {
      "cell_type": "markdown",
      "metadata": {},
      "source": [
        "Eliminamos los duplicados"
      ]
    },
    {
      "cell_type": "code",
      "execution_count": 68,
      "metadata": {},
      "outputs": [],
      "source": [
        "df.drop_duplicates(inplace=True)"
      ]
    },
    {
      "cell_type": "markdown",
      "metadata": {},
      "source": [
        "Valido"
      ]
    },
    {
      "cell_type": "code",
      "execution_count": 114,
      "metadata": {},
      "outputs": [
        {
          "data": {
            "text/plain": [
              "(98, 20)"
            ]
          },
          "execution_count": 114,
          "metadata": {},
          "output_type": "execute_result"
        }
      ],
      "source": [
        "df.shape"
      ]
    },
    {
      "cell_type": "markdown",
      "metadata": {
        "id": "Tz6mAGobMFWc"
      },
      "source": [
        "## Identificacion y limpieza de datos atipicos"
      ]
    },
    {
      "cell_type": "code",
      "execution_count": 12,
      "metadata": {
        "colab": {
          "base_uri": "https://localhost:8080/",
          "height": 363
        },
        "id": "_u5e5RwjMV_T",
        "outputId": "d5c9830b-b46d-471f-f480-9c43651ad08f"
      },
      "outputs": [
        {
          "data": {
            "text/html": [
              "<div>\n",
              "<style scoped>\n",
              "    .dataframe tbody tr th:only-of-type {\n",
              "        vertical-align: middle;\n",
              "    }\n",
              "\n",
              "    .dataframe tbody tr th {\n",
              "        vertical-align: top;\n",
              "    }\n",
              "\n",
              "    .dataframe thead th {\n",
              "        text-align: right;\n",
              "    }\n",
              "</style>\n",
              "<table border=\"1\" class=\"dataframe\">\n",
              "  <thead>\n",
              "    <tr style=\"text-align: right;\">\n",
              "      <th></th>\n",
              "      <th>count</th>\n",
              "      <th>mean</th>\n",
              "      <th>std</th>\n",
              "      <th>min</th>\n",
              "      <th>25%</th>\n",
              "      <th>50%</th>\n",
              "      <th>75%</th>\n",
              "      <th>max</th>\n",
              "    </tr>\n",
              "  </thead>\n",
              "  <tbody>\n",
              "    <tr>\n",
              "      <th>Total_Revenue</th>\n",
              "      <td>102.0</td>\n",
              "      <td>2.449761e+10</td>\n",
              "      <td>1.360784e+10</td>\n",
              "      <td>1.045043e+09</td>\n",
              "      <td>1.194815e+10</td>\n",
              "      <td>2.304043e+10</td>\n",
              "      <td>3.398961e+10</td>\n",
              "      <td>4.998713e+10</td>\n",
              "    </tr>\n",
              "    <tr>\n",
              "      <th>Short_Term_Debt</th>\n",
              "      <td>102.0</td>\n",
              "      <td>1.046406e+09</td>\n",
              "      <td>5.965048e+08</td>\n",
              "      <td>4.918551e+06</td>\n",
              "      <td>5.541750e+08</td>\n",
              "      <td>1.039048e+09</td>\n",
              "      <td>1.652148e+09</td>\n",
              "      <td>1.988643e+09</td>\n",
              "    </tr>\n",
              "    <tr>\n",
              "      <th>Long_Term_Debt</th>\n",
              "      <td>105.0</td>\n",
              "      <td>5.276398e+09</td>\n",
              "      <td>2.719498e+09</td>\n",
              "      <td>8.056748e+07</td>\n",
              "      <td>2.764835e+09</td>\n",
              "      <td>5.869524e+09</td>\n",
              "      <td>7.465399e+09</td>\n",
              "      <td>9.901867e+09</td>\n",
              "    </tr>\n",
              "    <tr>\n",
              "      <th>Current_Assets</th>\n",
              "      <td>105.0</td>\n",
              "      <td>1.021981e+10</td>\n",
              "      <td>5.975602e+09</td>\n",
              "      <td>7.755746e+07</td>\n",
              "      <td>5.000406e+09</td>\n",
              "      <td>9.869102e+09</td>\n",
              "      <td>1.615755e+10</td>\n",
              "      <td>1.980115e+10</td>\n",
              "    </tr>\n",
              "    <tr>\n",
              "      <th>Current_Liabilities</th>\n",
              "      <td>105.0</td>\n",
              "      <td>1.109732e+09</td>\n",
              "      <td>5.683499e+08</td>\n",
              "      <td>1.773342e+07</td>\n",
              "      <td>7.802656e+08</td>\n",
              "      <td>1.140972e+09</td>\n",
              "      <td>1.586932e+09</td>\n",
              "      <td>1.987047e+09</td>\n",
              "    </tr>\n",
              "    <tr>\n",
              "      <th>Equity</th>\n",
              "      <td>105.0</td>\n",
              "      <td>1.516267e+10</td>\n",
              "      <td>8.385649e+09</td>\n",
              "      <td>2.069042e+08</td>\n",
              "      <td>7.600545e+09</td>\n",
              "      <td>1.554729e+10</td>\n",
              "      <td>2.230102e+10</td>\n",
              "      <td>2.949615e+10</td>\n",
              "    </tr>\n",
              "    <tr>\n",
              "      <th>Financial_Expenses</th>\n",
              "      <td>101.0</td>\n",
              "      <td>2.501030e+08</td>\n",
              "      <td>1.575708e+08</td>\n",
              "      <td>3.579765e+06</td>\n",
              "      <td>7.582360e+07</td>\n",
              "      <td>2.802825e+08</td>\n",
              "      <td>3.864617e+08</td>\n",
              "      <td>4.996004e+08</td>\n",
              "    </tr>\n",
              "    <tr>\n",
              "      <th>Current_Ratio</th>\n",
              "      <td>105.0</td>\n",
              "      <td>2.633905e+01</td>\n",
              "      <td>6.637906e+01</td>\n",
              "      <td>4.000000e-02</td>\n",
              "      <td>4.280000e+00</td>\n",
              "      <td>1.028000e+01</td>\n",
              "      <td>1.802000e+01</td>\n",
              "      <td>5.093500e+02</td>\n",
              "    </tr>\n",
              "    <tr>\n",
              "      <th>Debt_to_Equity_Ratio</th>\n",
              "      <td>105.0</td>\n",
              "      <td>6.165095e+01</td>\n",
              "      <td>2.717334e+02</td>\n",
              "      <td>3.000000e-02</td>\n",
              "      <td>2.500000e-01</td>\n",
              "      <td>4.400000e-01</td>\n",
              "      <td>9.200000e-01</td>\n",
              "      <td>1.271000e+03</td>\n",
              "    </tr>\n",
              "    <tr>\n",
              "      <th>Interest_Coverage_Ratio</th>\n",
              "      <td>105.0</td>\n",
              "      <td>2.888728e+02</td>\n",
              "      <td>6.620251e+02</td>\n",
              "      <td>7.230000e+00</td>\n",
              "      <td>4.729000e+01</td>\n",
              "      <td>1.002500e+02</td>\n",
              "      <td>2.116700e+02</td>\n",
              "      <td>5.287050e+03</td>\n",
              "    </tr>\n",
              "  </tbody>\n",
              "</table>\n",
              "</div>"
            ],
            "text/plain": [
              "                         count          mean           std           min  \\\n",
              "Total_Revenue            102.0  2.449761e+10  1.360784e+10  1.045043e+09   \n",
              "Short_Term_Debt          102.0  1.046406e+09  5.965048e+08  4.918551e+06   \n",
              "Long_Term_Debt           105.0  5.276398e+09  2.719498e+09  8.056748e+07   \n",
              "Current_Assets           105.0  1.021981e+10  5.975602e+09  7.755746e+07   \n",
              "Current_Liabilities      105.0  1.109732e+09  5.683499e+08  1.773342e+07   \n",
              "Equity                   105.0  1.516267e+10  8.385649e+09  2.069042e+08   \n",
              "Financial_Expenses       101.0  2.501030e+08  1.575708e+08  3.579765e+06   \n",
              "Current_Ratio            105.0  2.633905e+01  6.637906e+01  4.000000e-02   \n",
              "Debt_to_Equity_Ratio     105.0  6.165095e+01  2.717334e+02  3.000000e-02   \n",
              "Interest_Coverage_Ratio  105.0  2.888728e+02  6.620251e+02  7.230000e+00   \n",
              "\n",
              "                                  25%           50%           75%  \\\n",
              "Total_Revenue            1.194815e+10  2.304043e+10  3.398961e+10   \n",
              "Short_Term_Debt          5.541750e+08  1.039048e+09  1.652148e+09   \n",
              "Long_Term_Debt           2.764835e+09  5.869524e+09  7.465399e+09   \n",
              "Current_Assets           5.000406e+09  9.869102e+09  1.615755e+10   \n",
              "Current_Liabilities      7.802656e+08  1.140972e+09  1.586932e+09   \n",
              "Equity                   7.600545e+09  1.554729e+10  2.230102e+10   \n",
              "Financial_Expenses       7.582360e+07  2.802825e+08  3.864617e+08   \n",
              "Current_Ratio            4.280000e+00  1.028000e+01  1.802000e+01   \n",
              "Debt_to_Equity_Ratio     2.500000e-01  4.400000e-01  9.200000e-01   \n",
              "Interest_Coverage_Ratio  4.729000e+01  1.002500e+02  2.116700e+02   \n",
              "\n",
              "                                  max  \n",
              "Total_Revenue            4.998713e+10  \n",
              "Short_Term_Debt          1.988643e+09  \n",
              "Long_Term_Debt           9.901867e+09  \n",
              "Current_Assets           1.980115e+10  \n",
              "Current_Liabilities      1.987047e+09  \n",
              "Equity                   2.949615e+10  \n",
              "Financial_Expenses       4.996004e+08  \n",
              "Current_Ratio            5.093500e+02  \n",
              "Debt_to_Equity_Ratio     1.271000e+03  \n",
              "Interest_Coverage_Ratio  5.287050e+03  "
            ]
          },
          "execution_count": 12,
          "metadata": {},
          "output_type": "execute_result"
        }
      ],
      "source": [
        "df.describe().transpose()"
      ]
    },
    {
      "cell_type": "markdown",
      "metadata": {
        "id": "XA7UzcBIOmt0"
      },
      "source": [
        "Instalacion de librerias"
      ]
    },
    {
      "cell_type": "code",
      "execution_count": 13,
      "metadata": {
        "id": "YQlmTDo3OHLU"
      },
      "outputs": [],
      "source": [
        "import seaborn as sns\n",
        "import matplotlib.pyplot as plt"
      ]
    },
    {
      "cell_type": "markdown",
      "metadata": {},
      "source": [
        "Graficamos"
      ]
    },
    {
      "cell_type": "code",
      "execution_count": 70,
      "metadata": {},
      "outputs": [
        {
          "data": {
            "image/png": "[encoded data removed]",
            "text/plain": [
              "<Figure size 640x480 with 10 Axes>"
            ]
          },
          "metadata": {},
          "output_type": "display_data"
        }
      ],
      "source": [
        "columns = df.select_dtypes(\"float64\").columns\n",
        "total_columns = len(columns)\n",
        "fig, axes = plt.subplots(2,int(total_columns/2), constrained_layout=True)\n",
        "\n",
        "for index, column in  enumerate(df.select_dtypes(\"float64\").columns):\n",
        "\n",
        "    if index < int(total_columns/2):\n",
        "        row = 0\n",
        "    else:\n",
        "        row = 1\n",
        "        index = index - int(total_columns/2)\n",
        "    sns.boxplot(data=df[column], ax = axes[row][index])\n",
        "plt.show()"
      ]
    },
    {
      "cell_type": "markdown",
      "metadata": {},
      "source": [
        "### Current_Ratio"
      ]
    },
    {
      "cell_type": "code",
      "execution_count": 72,
      "metadata": {
        "colab": {
          "base_uri": "https://localhost:8080/",
          "height": 433
        },
        "id": "OeTCIPLZO1M5",
        "outputId": "8769e846-7d05-457f-baa4-e793f7461fe3"
      },
      "outputs": [
        {
          "data": {
            "text/plain": [
              "<Axes: ylabel='Current_Ratio'>"
            ]
          },
          "execution_count": 72,
          "metadata": {},
          "output_type": "execute_result"
        },
        {
          "data": {
            "image/png": "[encoded data removed]",
            "text/plain": [
              "<Figure size 640x480 with 1 Axes>"
            ]
          },
          "metadata": {},
          "output_type": "display_data"
        }
      ],
      "source": [
        "sns.boxplot(data=df[\"Current_Ratio\"])"
      ]
    },
    {
      "cell_type": "code",
      "execution_count": 137,
      "metadata": {},
      "outputs": [
        {
          "data": {
            "text/plain": [
              "<Axes: ylabel='Current_Ratio'>"
            ]
          },
          "execution_count": 137,
          "metadata": {},
          "output_type": "execute_result"
        },
        {
          "data": {
            "image/png": "[encoded data removed]",
            "text/plain": [
              "<Figure size 640x480 with 1 Axes>"
            ]
          },
          "metadata": {},
          "output_type": "display_data"
        }
      ],
      "source": [
        "sns.boxplot(data=df[\"Current_Ratio\"].loc[df[\"Current_Ratio\"]>35])"
      ]
    },
    {
      "cell_type": "markdown",
      "metadata": {},
      "source": [
        "Current_Ratio = Current_Assets / Current_Liabilities"
      ]
    },
    {
      "cell_type": "code",
      "execution_count": 117,
      "metadata": {},
      "outputs": [],
      "source": [
        "df[\"Calculated_CR\"] = round(df[\"Current_Assets\"]/df[\"Current_Liabilities\"],2)"
      ]
    },
    {
      "cell_type": "code",
      "execution_count": 118,
      "metadata": {},
      "outputs": [
        {
          "data": {
            "text/html": [
              "<div>\n",
              "<style scoped>\n",
              "    .dataframe tbody tr th:only-of-type {\n",
              "        vertical-align: middle;\n",
              "    }\n",
              "\n",
              "    .dataframe tbody tr th {\n",
              "        vertical-align: top;\n",
              "    }\n",
              "\n",
              "    .dataframe thead th {\n",
              "        text-align: right;\n",
              "    }\n",
              "</style>\n",
              "<table border=\"1\" class=\"dataframe\">\n",
              "  <thead>\n",
              "    <tr style=\"text-align: right;\">\n",
              "      <th></th>\n",
              "      <th>Company_ID</th>\n",
              "      <th>Total_Revenue</th>\n",
              "      <th>Short_Term_Debt</th>\n",
              "      <th>Long_Term_Debt</th>\n",
              "      <th>Current_Assets</th>\n",
              "      <th>Current_Liabilities</th>\n",
              "      <th>Equity</th>\n",
              "      <th>Financial_Expenses</th>\n",
              "      <th>Current_Ratio</th>\n",
              "      <th>Debt_to_Equity_Ratio</th>\n",
              "      <th>Interest_Coverage_Ratio</th>\n",
              "      <th>Industry</th>\n",
              "      <th>Country</th>\n",
              "      <th>Company_Size</th>\n",
              "      <th>Calculated_CR</th>\n",
              "      <th>Calculated_DER</th>\n",
              "      <th>FR_TR_Ratio</th>\n",
              "      <th>STD_LTD_Ratio</th>\n",
              "      <th>AVG_FR_TR_Ratio</th>\n",
              "      <th>AVG_STD_LTD_Ratio</th>\n",
              "    </tr>\n",
              "  </thead>\n",
              "  <tbody>\n",
              "  </tbody>\n",
              "</table>\n",
              "</div>"
            ],
            "text/plain": [
              "Empty DataFrame\n",
              "Columns: [Company_ID, Total_Revenue, Short_Term_Debt, Long_Term_Debt, Current_Assets, Current_Liabilities, Equity, Financial_Expenses, Current_Ratio, Debt_to_Equity_Ratio, Interest_Coverage_Ratio, Industry, Country, Company_Size, Calculated_CR, Calculated_DER, FR_TR_Ratio, STD_LTD_Ratio, AVG_FR_TR_Ratio, AVG_STD_LTD_Ratio]\n",
              "Index: []"
            ]
          },
          "execution_count": 118,
          "metadata": {},
          "output_type": "execute_result"
        }
      ],
      "source": [
        "df.loc[df[\"Calculated_CR\"] != df[\"Current_Ratio\"]]"
      ]
    },
    {
      "cell_type": "markdown",
      "metadata": {},
      "source": [
        "### Debt_to_Equity_Ratio"
      ]
    },
    {
      "cell_type": "code",
      "execution_count": 83,
      "metadata": {},
      "outputs": [
        {
          "data": {
            "text/plain": [
              "<Axes: ylabel='Debt_to_Equity_Ratio'>"
            ]
          },
          "execution_count": 83,
          "metadata": {},
          "output_type": "execute_result"
        },
        {
          "data": {
            "image/png": "[encoded data removed]",
            "text/plain": [
              "<Figure size 640x480 with 1 Axes>"
            ]
          },
          "metadata": {},
          "output_type": "display_data"
        }
      ],
      "source": [
        "sns.boxplot(data=df[\"Debt_to_Equity_Ratio\"])"
      ]
    },
    {
      "cell_type": "markdown",
      "metadata": {},
      "source": [
        "Short_Term_Debt+Long_Term_Debt/Equity"
      ]
    },
    {
      "cell_type": "code",
      "execution_count": 120,
      "metadata": {},
      "outputs": [],
      "source": [
        "df[\"Calculated_DER\"] = round((df[\"Short_Term_Debt\"]+df[\"Long_Term_Debt\"])/df[\"Equity\"],2)"
      ]
    },
    {
      "cell_type": "code",
      "execution_count": 128,
      "metadata": {},
      "outputs": [],
      "source": [
        "df.loc[(df[\"Calculated_DER\"] != df[\"Debt_to_Equity_Ratio\"]) & (df[\"STD_LTD_Ratio\"].notna()),[\"Debt_to_Equity_Ratio\"]] = df[\"Calculated_DER\"]"
      ]
    },
    {
      "cell_type": "markdown",
      "metadata": {},
      "source": [
        "Validamos"
      ]
    },
    {
      "cell_type": "code",
      "execution_count": 129,
      "metadata": {},
      "outputs": [
        {
          "data": {
            "text/plain": [
              "<Axes: ylabel='Debt_to_Equity_Ratio'>"
            ]
          },
          "execution_count": 129,
          "metadata": {},
          "output_type": "execute_result"
        },
        {
          "data": {
            "image/png": "[encoded data removed]",
            "text/plain": [
              "<Figure size 640x480 with 1 Axes>"
            ]
          },
          "metadata": {},
          "output_type": "display_data"
        }
      ],
      "source": [
        "sns.boxplot(data=df[\"Debt_to_Equity_Ratio\"])"
      ]
    },
    {
      "cell_type": "markdown",
      "metadata": {},
      "source": [
        "### Interest_Coverage_Ratio"
      ]
    },
    {
      "cell_type": "code",
      "execution_count": 52,
      "metadata": {},
      "outputs": [
        {
          "data": {
            "text/plain": [
              "<Axes: ylabel='Interest_Coverage_Ratio'>"
            ]
          },
          "execution_count": 52,
          "metadata": {},
          "output_type": "execute_result"
        },
        {
          "data": {
            "image/png": "[encoded data removed]",
            "text/plain": [
              "<Figure size 640x480 with 1 Axes>"
            ]
          },
          "metadata": {},
          "output_type": "display_data"
        }
      ],
      "source": [
        "sns.boxplot(data=df[\"Interest_Coverage_Ratio\"])"
      ]
    },
    {
      "cell_type": "code",
      "execution_count": 140,
      "metadata": {},
      "outputs": [
        {
          "data": {
            "text/plain": [
              "<Axes: ylabel='Interest_Coverage_Ratio'>"
            ]
          },
          "execution_count": 140,
          "metadata": {},
          "output_type": "execute_result"
        },
        {
          "data": {
            "image/png": "[encoded data removed]",
            "text/plain": [
              "<Figure size 640x480 with 1 Axes>"
            ]
          },
          "metadata": {},
          "output_type": "display_data"
        }
      ],
      "source": [
        "sns.boxplot(data=df[\"Interest_Coverage_Ratio\"].loc[df[\"Interest_Coverage_Ratio\"]>1000])"
      ]
    },
    {
      "cell_type": "markdown",
      "metadata": {},
      "source": [
        "Limito el Interest_Coverage_Ratio a 2000"
      ]
    },
    {
      "cell_type": "code",
      "execution_count": 143,
      "metadata": {},
      "outputs": [],
      "source": [
        "df.loc[df[\"Interest_Coverage_Ratio\"] > 2000,[\"Interest_Coverage_Ratio\"]] = 2000"
      ]
    },
    {
      "cell_type": "markdown",
      "metadata": {},
      "source": [
        "## Limpieza de campos adicionales y exportacion"
      ]
    },
    {
      "cell_type": "markdown",
      "metadata": {},
      "source": [
        "Elimino los campos intermedios que se utilizaron en la limpieza"
      ]
    },
    {
      "cell_type": "code",
      "execution_count": 148,
      "metadata": {},
      "outputs": [],
      "source": [
        "df.drop(columns=[\"Calculated_CR\",\"Calculated_DER\",\"FR_TR_Ratio\",\"STD_LTD_Ratio\",\"AVG_FR_TR_Ratio\",\"AVG_STD_LTD_Ratio\"],inplace=True)\n"
      ]
    },
    {
      "cell_type": "markdown",
      "metadata": {},
      "source": [
        "Valido"
      ]
    },
    {
      "cell_type": "code",
      "execution_count": 149,
      "metadata": {},
      "outputs": [
        {
          "data": {
            "text/html": [
              "<div>\n",
              "<style scoped>\n",
              "    .dataframe tbody tr th:only-of-type {\n",
              "        vertical-align: middle;\n",
              "    }\n",
              "\n",
              "    .dataframe tbody tr th {\n",
              "        vertical-align: top;\n",
              "    }\n",
              "\n",
              "    .dataframe thead th {\n",
              "        text-align: right;\n",
              "    }\n",
              "</style>\n",
              "<table border=\"1\" class=\"dataframe\">\n",
              "  <thead>\n",
              "    <tr style=\"text-align: right;\">\n",
              "      <th></th>\n",
              "      <th>Company_ID</th>\n",
              "      <th>Total_Revenue</th>\n",
              "      <th>Short_Term_Debt</th>\n",
              "      <th>Long_Term_Debt</th>\n",
              "      <th>Current_Assets</th>\n",
              "      <th>Current_Liabilities</th>\n",
              "      <th>Equity</th>\n",
              "      <th>Financial_Expenses</th>\n",
              "      <th>Current_Ratio</th>\n",
              "      <th>Debt_to_Equity_Ratio</th>\n",
              "      <th>Interest_Coverage_Ratio</th>\n",
              "      <th>Industry</th>\n",
              "      <th>Country</th>\n",
              "      <th>Company_Size</th>\n",
              "    </tr>\n",
              "  </thead>\n",
              "  <tbody>\n",
              "    <tr>\n",
              "      <th>0</th>\n",
              "      <td>C0001</td>\n",
              "      <td>3.347816e+10</td>\n",
              "      <td>5.495948e+08</td>\n",
              "      <td>2.278415e+09</td>\n",
              "      <td>6.538713e+09</td>\n",
              "      <td>1.331093e+08</td>\n",
              "      <td>2.293854e+10</td>\n",
              "      <td>3.864617e+08</td>\n",
              "      <td>49.12</td>\n",
              "      <td>0.12</td>\n",
              "      <td>86.63</td>\n",
              "      <td>Tecnología</td>\n",
              "      <td>Alemania</td>\n",
              "      <td>Mediana</td>\n",
              "    </tr>\n",
              "    <tr>\n",
              "      <th>1</th>\n",
              "      <td>C0002</td>\n",
              "      <td>2.477267e+10</td>\n",
              "      <td>1.320539e+09</td>\n",
              "      <td>1.651796e+09</td>\n",
              "      <td>1.939125e+10</td>\n",
              "      <td>8.864651e+08</td>\n",
              "      <td>2.949615e+10</td>\n",
              "      <td>1.652171e+08</td>\n",
              "      <td>21.87</td>\n",
              "      <td>0.10</td>\n",
              "      <td>149.94</td>\n",
              "      <td>Tecnología</td>\n",
              "      <td>México</td>\n",
              "      <td>Mediana</td>\n",
              "    </tr>\n",
              "    <tr>\n",
              "      <th>2</th>\n",
              "      <td>C0003</td>\n",
              "      <td>2.281084e+10</td>\n",
              "      <td>7.473215e+08</td>\n",
              "      <td>8.511983e+09</td>\n",
              "      <td>7.443570e+09</td>\n",
              "      <td>1.982664e+09</td>\n",
              "      <td>2.571465e+10</td>\n",
              "      <td>5.197711e+07</td>\n",
              "      <td>3.75</td>\n",
              "      <td>0.36</td>\n",
              "      <td>438.86</td>\n",
              "      <td>Retail</td>\n",
              "      <td>Alemania</td>\n",
              "      <td>Mediana</td>\n",
              "    </tr>\n",
              "    <tr>\n",
              "      <th>3</th>\n",
              "      <td>C0004</td>\n",
              "      <td>8.187718e+09</td>\n",
              "      <td>4.930008e+08</td>\n",
              "      <td>8.082415e+09</td>\n",
              "      <td>1.860758e+10</td>\n",
              "      <td>1.959019e+09</td>\n",
              "      <td>2.170094e+10</td>\n",
              "      <td>4.335059e+08</td>\n",
              "      <td>9.50</td>\n",
              "      <td>0.40</td>\n",
              "      <td>18.89</td>\n",
              "      <td>Tecnología</td>\n",
              "      <td>Estados Unidos</td>\n",
              "      <td>Grande</td>\n",
              "    </tr>\n",
              "    <tr>\n",
              "      <th>4</th>\n",
              "      <td>C0005</td>\n",
              "      <td>1.484683e+10</td>\n",
              "      <td>1.943282e+09</td>\n",
              "      <td>2.758103e+09</td>\n",
              "      <td>4.151931e+09</td>\n",
              "      <td>1.651759e+09</td>\n",
              "      <td>8.839496e+09</td>\n",
              "      <td>1.665935e+07</td>\n",
              "      <td>2.51</td>\n",
              "      <td>0.53</td>\n",
              "      <td>891.20</td>\n",
              "      <td>Salud</td>\n",
              "      <td>Alemania</td>\n",
              "      <td>Mediana</td>\n",
              "    </tr>\n",
              "    <tr>\n",
              "      <th>5</th>\n",
              "      <td>C0006</td>\n",
              "      <td>1.099748e+10</td>\n",
              "      <td>6.621239e+08</td>\n",
              "      <td>2.764835e+09</td>\n",
              "      <td>9.869102e+09</td>\n",
              "      <td>8.481944e+08</td>\n",
              "      <td>3.731250e+09</td>\n",
              "      <td>2.802825e+08</td>\n",
              "      <td>11.64</td>\n",
              "      <td>0.92</td>\n",
              "      <td>39.24</td>\n",
              "      <td>Salud</td>\n",
              "      <td>México</td>\n",
              "      <td>Mediana</td>\n",
              "    </tr>\n",
              "    <tr>\n",
              "      <th>6</th>\n",
              "      <td>C0007</td>\n",
              "      <td>3.320348e+10</td>\n",
              "      <td>1.711320e+08</td>\n",
              "      <td>4.680667e+09</td>\n",
              "      <td>1.615755e+10</td>\n",
              "      <td>1.338509e+09</td>\n",
              "      <td>2.286229e+10</td>\n",
              "      <td>3.570077e+08</td>\n",
              "      <td>12.07</td>\n",
              "      <td>0.21</td>\n",
              "      <td>93.00</td>\n",
              "      <td>Manufactura</td>\n",
              "      <td>Estados Unidos</td>\n",
              "      <td>Grande</td>\n",
              "    </tr>\n",
              "    <tr>\n",
              "      <th>7</th>\n",
              "      <td>C0008</td>\n",
              "      <td>3.575152e+10</td>\n",
              "      <td>8.353767e+08</td>\n",
              "      <td>8.056748e+07</td>\n",
              "      <td>1.645370e+10</td>\n",
              "      <td>1.314809e+09</td>\n",
              "      <td>6.804570e+09</td>\n",
              "      <td>1.923786e+07</td>\n",
              "      <td>12.51</td>\n",
              "      <td>0.13</td>\n",
              "      <td>1858.39</td>\n",
              "      <td>Manufactura</td>\n",
              "      <td>Estados Unidos</td>\n",
              "      <td>Grande</td>\n",
              "    </tr>\n",
              "    <tr>\n",
              "      <th>8</th>\n",
              "      <td>C0009</td>\n",
              "      <td>9.153223e+09</td>\n",
              "      <td>5.783346e+07</td>\n",
              "      <td>6.335196e+09</td>\n",
              "      <td>7.953471e+09</td>\n",
              "      <td>1.753550e+09</td>\n",
              "      <td>1.077667e+10</td>\n",
              "      <td>6.505931e+07</td>\n",
              "      <td>4.54</td>\n",
              "      <td>0.59</td>\n",
              "      <td>140.69</td>\n",
              "      <td>Finanzas</td>\n",
              "      <td>China</td>\n",
              "      <td>Grande</td>\n",
              "    </tr>\n",
              "    <tr>\n",
              "      <th>9</th>\n",
              "      <td>C0010</td>\n",
              "      <td>3.565230e+09</td>\n",
              "      <td>1.931868e+09</td>\n",
              "      <td>1.235623e+09</td>\n",
              "      <td>9.811878e+09</td>\n",
              "      <td>4.330429e+08</td>\n",
              "      <td>2.030916e+10</td>\n",
              "      <td>1.436897e+08</td>\n",
              "      <td>22.66</td>\n",
              "      <td>0.16</td>\n",
              "      <td>24.81</td>\n",
              "      <td>Retail</td>\n",
              "      <td>Alemania</td>\n",
              "      <td>Pequeña</td>\n",
              "    </tr>\n",
              "  </tbody>\n",
              "</table>\n",
              "</div>"
            ],
            "text/plain": [
              "  Company_ID  Total_Revenue  Short_Term_Debt  Long_Term_Debt  Current_Assets  \\\n",
              "0      C0001   3.347816e+10     5.495948e+08    2.278415e+09    6.538713e+09   \n",
              "1      C0002   2.477267e+10     1.320539e+09    1.651796e+09    1.939125e+10   \n",
              "2      C0003   2.281084e+10     7.473215e+08    8.511983e+09    7.443570e+09   \n",
              "3      C0004   8.187718e+09     4.930008e+08    8.082415e+09    1.860758e+10   \n",
              "4      C0005   1.484683e+10     1.943282e+09    2.758103e+09    4.151931e+09   \n",
              "5      C0006   1.099748e+10     6.621239e+08    2.764835e+09    9.869102e+09   \n",
              "6      C0007   3.320348e+10     1.711320e+08    4.680667e+09    1.615755e+10   \n",
              "7      C0008   3.575152e+10     8.353767e+08    8.056748e+07    1.645370e+10   \n",
              "8      C0009   9.153223e+09     5.783346e+07    6.335196e+09    7.953471e+09   \n",
              "9      C0010   3.565230e+09     1.931868e+09    1.235623e+09    9.811878e+09   \n",
              "\n",
              "   Current_Liabilities        Equity  Financial_Expenses  Current_Ratio  \\\n",
              "0         1.331093e+08  2.293854e+10        3.864617e+08          49.12   \n",
              "1         8.864651e+08  2.949615e+10        1.652171e+08          21.87   \n",
              "2         1.982664e+09  2.571465e+10        5.197711e+07           3.75   \n",
              "3         1.959019e+09  2.170094e+10        4.335059e+08           9.50   \n",
              "4         1.651759e+09  8.839496e+09        1.665935e+07           2.51   \n",
              "5         8.481944e+08  3.731250e+09        2.802825e+08          11.64   \n",
              "6         1.338509e+09  2.286229e+10        3.570077e+08          12.07   \n",
              "7         1.314809e+09  6.804570e+09        1.923786e+07          12.51   \n",
              "8         1.753550e+09  1.077667e+10        6.505931e+07           4.54   \n",
              "9         4.330429e+08  2.030916e+10        1.436897e+08          22.66   \n",
              "\n",
              "   Debt_to_Equity_Ratio  Interest_Coverage_Ratio     Industry         Country  \\\n",
              "0                  0.12                    86.63   Tecnología        Alemania   \n",
              "1                  0.10                   149.94   Tecnología          México   \n",
              "2                  0.36                   438.86       Retail        Alemania   \n",
              "3                  0.40                    18.89   Tecnología  Estados Unidos   \n",
              "4                  0.53                   891.20        Salud        Alemania   \n",
              "5                  0.92                    39.24        Salud          México   \n",
              "6                  0.21                    93.00  Manufactura  Estados Unidos   \n",
              "7                  0.13                  1858.39  Manufactura  Estados Unidos   \n",
              "8                  0.59                   140.69     Finanzas           China   \n",
              "9                  0.16                    24.81       Retail        Alemania   \n",
              "\n",
              "  Company_Size  \n",
              "0      Mediana  \n",
              "1      Mediana  \n",
              "2      Mediana  \n",
              "3       Grande  \n",
              "4      Mediana  \n",
              "5      Mediana  \n",
              "6       Grande  \n",
              "7       Grande  \n",
              "8       Grande  \n",
              "9      Pequeña  "
            ]
          },
          "execution_count": 149,
          "metadata": {},
          "output_type": "execute_result"
        }
      ],
      "source": [
        "df.head(10)"
      ]
    },
    {
      "cell_type": "markdown",
      "metadata": {},
      "source": [
        "Exporto el Df a un csv nuevo"
      ]
    },
    {
      "cell_type": "code",
      "execution_count": 150,
      "metadata": {},
      "outputs": [],
      "source": [
        "df.to_csv(\"DataSet/Datos_proyecto_limpio.csv\")"
      ]
    }
  ],
  "metadata": {
    "colab": {
      "provenance": []
    },
    "kernelspec": {
      "display_name": "Python 3",
      "name": "python3"
    },
    "language_info": {
      "codemirror_mode": {
        "name": "ipython",
        "version": 3
      },
      "file_extension": ".py",
      "mimetype": "text/x-python",
      "name": "python",
      "nbconvert_exporter": "python",
      "pygments_lexer": "ipython3",
      "version": "3.11.0"
    }
  },
  "nbformat": 4,
  "nbformat_minor": 0
}
